{
 "cells": [
  {
   "cell_type": "code",
   "execution_count": null,
   "metadata": {},
   "outputs": [],
   "source": [
    "import importlib\n",
    "\n",
    "import numpy as np\n",
    "from scipy import sparse as ss\n",
    "import pandas as pd\n",
    "import anndata\n",
    "\n",
    "import matplotlib.pyplot as plt\n",
    "import seaborn as sns"
   ]
  },
  {
   "cell_type": "code",
   "execution_count": null,
   "metadata": {},
   "outputs": [],
   "source": [
    "from rich import print as rprint\n",
    "from rich.traceback import install\n",
    "install()"
   ]
  },
  {
   "cell_type": "code",
   "execution_count": null,
   "metadata": {},
   "outputs": [],
   "source": [
    "import pipeline\n",
    "pipeline = importlib.reload(pipeline)"
   ]
  },
  {
   "cell_type": "markdown",
   "metadata": {},
   "source": [
    "## Brain"
   ]
  },
  {
   "cell_type": "code",
   "execution_count": null,
   "metadata": {},
   "outputs": [],
   "source": [
    "DATA_DIR = '/home/tiankang/wusuowei/data/single_cell/MARS/scRNAseq_Benchmark_datasets/Inter-dataset/Brain/cached/'"
   ]
  },
  {
   "cell_type": "code",
   "execution_count": null,
   "metadata": {},
   "outputs": [],
   "source": [
    "for file_name in [\n",
    "    '/home/tiankang/wusuowei/data/single_cell/MARS/scRNAseq_Benchmark_datasets/Inter-dataset/Brain/MouseALM_HumanMTG/MouseALM_HumanMTG.csv',\n",
    "    '/home/tiankang/wusuowei/data/single_cell/MARS/scRNAseq_Benchmark_datasets/Inter-dataset/Brain/MouseV1_HumanMTG/MouseV1_HumanMTG.csv',\n",
    "    '/home/tiankang/wusuowei/data/single_cell/MARS/scRNAseq_Benchmark_datasets/Inter-dataset/Brain/MouseV1_MouseALM/MouseV1_MouseALM.csv',\n",
    "    '/home/tiankang/wusuowei/data/single_cell/MARS/scRNAseq_Benchmark_datasets/Inter-dataset/Brain/MouseV1_MouseALM_HumanMTG/MouseV1_MouseALM_HumanMTG.csv',\n",
    "]:\n",
    "    with open(file_name) as f:\n",
    "        for line in f:\n",
    "            print(len(line.split(',')))\n",
    "            break"
   ]
  },
  {
   "cell_type": "code",
   "execution_count": null,
   "metadata": {},
   "outputs": [],
   "source": [
    "for NAME in ['HumanMTG', 'MouseALM', 'MouseV1']:\n",
    "    df = pd.read_feather(DATA_DIR + f'{NAME}.feather')\n",
    "    label_coarse = pd.read_csv(DATA_DIR + f'{NAME}_Label3.csv', squeeze=True)\n",
    "    label_refined = pd.read_csv(DATA_DIR + f'{NAME}_Label34.csv', squeeze=True)\n",
    "    # ---- plot label dist ----\n",
    "    f, (ax1, ax2) = plt.subplots(1, 2, gridspec_kw={'width_ratios': [1, 3]}, figsize=(14, 7))\n",
    "    sns.histplot(data=label_coarse, shrink=.8, ax=ax1)\n",
    "    g = sns.histplot(data=label_refined, shrink=.8, ax=ax2)\n",
    "    plt.xticks(\n",
    "        rotation=45, \n",
    "        horizontalalignment='right',\n",
    "    )\n",
    "    plt.savefig(f'./explore/imgs/Brain_{NAME}_label_dist.jpg')\n",
    "    # ---- plot qc ----\n",
    "    f, (ax1, ax2) = plt.subplots(1, 2, figsize=(14, 7))\n",
    "    df.sum(axis=1).plot(kind='hist', bins=30, ax=ax1)\n",
    "    (df != 0).sum(axis=1).plot(kind='hist', bins=30, ax=ax2)\n",
    "    plt.savefig(f'./explore/imgs/Brain_{NAME}_qc.jpg')\n",
    "    # ---- UMAP ----\n",
    "    X_normalized = pipeline.normalize(df.values, apply_qc=False)\n",
    "    umap_object, X_umap = pipeline.umap(X_normalized, n_components=2)\n",
    "    fig = pipeline.plot(X_umap, backend='plotly')\n",
    "    fig.write_image(f'./explore/imgs/Brain_{NAME}_noqc_umap.jpg')\n",
    "    fig = pipeline.plot(X_umap, labels=pipeline.label_to_idx(label_coarse)[0], backend='plotly')\n",
    "    fig.write_image(f'./explore/imgs/Brain_{NAME}_noqc_umap_coarse.jpg')\n",
    "    fig = pipeline.plot(X_umap, labels=pipeline.label_to_idx(label_refined)[0], backend='plotly')\n",
    "    fig.write_image(f'./explore/imgs/Brain_{NAME}_noqc_umap_refined.jpg')\n"
   ]
  },
  {
   "cell_type": "markdown",
   "metadata": {},
   "source": [
    "## CellBench"
   ]
  },
  {
   "cell_type": "code",
   "execution_count": null,
   "metadata": {},
   "outputs": [],
   "source": [
    "DATA_DIR = '/home/tiankang/wusuowei/data/single_cell/MARS/scRNAseq_Benchmark_datasets/Inter-dataset/CellBench/processed/'"
   ]
  },
  {
   "cell_type": "code",
   "execution_count": null,
   "metadata": {},
   "outputs": [],
   "source": [
    "for NAME in ('10x', 'celseq2'):\n",
    "    df = pd.read_feather(DATA_DIR + f'{NAME}.feather')\n",
    "    label = pd.read_csv(DATA_DIR + f'label_{NAME}.csv', squeeze=True)\n",
    "    # ---- plot label dist ----\n",
    "    f, ax = plt.subplots(figsize=(7, 7))\n",
    "    g = sns.histplot(data=label, shrink=.8, ax=ax)\n",
    "    plt.xticks(\n",
    "        rotation=45, \n",
    "        horizontalalignment='right',\n",
    "    )\n",
    "    plt.savefig(f'./explore/imgs/CellBench_{NAME}_label_dist.jpg')\n",
    "    # ---- plot qc ----\n",
    "    f, (ax1, ax2) = plt.subplots(1, 2, figsize=(14, 7))\n",
    "    df.sum(axis=1).plot(kind='hist', bins=30, ax=ax1)\n",
    "    (df != 0).sum(axis=1).plot(kind='hist', bins=30, ax=ax2)\n",
    "    plt.savefig(f'./explore/imgs/CellBench_{NAME}_qc.jpg')\n",
    "    # ---- UMAP ----\n",
    "    X_normalized = pipeline.normalize(df.values, apply_qc=False)\n",
    "    umap_object, X_umap = pipeline.umap(X_normalized, n_components=2)\n",
    "    fig = pipeline.plot(X_umap, backend='plotly')\n",
    "    fig.write_image(f'./explore/imgs/CellBench_{NAME}_noqc_umap.jpg')\n",
    "    fig = pipeline.plot(X_umap, labels=pipeline.label_to_idx(label)[0], backend='plotly')\n",
    "    fig.write_image(f'./explore/imgs/CellBench_{NAME}_noqc_umap_coarse.jpg')"
   ]
  },
  {
   "cell_type": "markdown",
   "metadata": {},
   "source": [
    "## Tabula Muris"
   ]
  },
  {
   "cell_type": "code",
   "execution_count": null,
   "metadata": {},
   "outputs": [],
   "source": [
    "tubula_muris_h5ad = anndata.read_h5ad('/home/tiankang/wusuowei/data/single_cell/MARS/tabula-muris-senis-facs_mars.h5ad')"
   ]
  },
  {
   "cell_type": "code",
   "execution_count": null,
   "metadata": {},
   "outputs": [],
   "source": [
    "tubula_muris_h5ad.X.shape"
   ]
  },
  {
   "cell_type": "code",
   "execution_count": null,
   "metadata": {},
   "outputs": [],
   "source": [
    "tubula_muris_h5ad.var"
   ]
  },
  {
   "cell_type": "code",
   "execution_count": null,
   "metadata": {},
   "outputs": [],
   "source": [
    "tubula_muris_h5ad.obs"
   ]
  },
  {
   "cell_type": "code",
   "execution_count": null,
   "metadata": {},
   "outputs": [],
   "source": [
    "tubula_muris_h5ad.obs.cell_ontology_class_reannotated.unique()"
   ]
  },
  {
   "cell_type": "code",
   "execution_count": null,
   "metadata": {},
   "outputs": [],
   "source": [
    "df = tubula_muris_h5ad.obs"
   ]
  },
  {
   "cell_type": "code",
   "execution_count": null,
   "metadata": {},
   "outputs": [],
   "source": [
    "df.cell_ontology_class_reannotated.isin((df.cell_ontology_class_reannotated.value_counts() > 200).index.tolist()[1:]).sum()"
   ]
  },
  {
   "cell_type": "code",
   "execution_count": null,
   "metadata": {},
   "outputs": [],
   "source": [
    "valid_data = tubula_muris_h5ad.X[np.random.choice(np.arange(len(df))[df.cell_ontology_class_reannotated.isin((df.cell_ontology_class_reannotated.value_counts() > 200).index.tolist()[1:])], size=15000, replace=False)]"
   ]
  },
  {
   "cell_type": "code",
   "execution_count": null,
   "metadata": {},
   "outputs": [],
   "source": [
    "ss.save_npz('/home/tiankang/wusuowei/data/single_cell/MARS/Tabula_Muris/val/count.npz', valid_data)"
   ]
  },
  {
   "cell_type": "code",
   "execution_count": null,
   "metadata": {},
   "outputs": [],
   "source": [
    "labels = df.cell_ontology_class_reannotated"
   ]
  },
  {
   "cell_type": "code",
   "execution_count": null,
   "metadata": {},
   "outputs": [],
   "source": [
    "for i in tubula_muris_h5ad.obs.columns:\n",
    "    rprint(f'---- {i} ----')\n",
    "    num_unique = tubula_muris_h5ad.obs[i].unique().shape[0]\n",
    "    if num_unique > 200:\n",
    "        print(f'{i} is skipped.')\n",
    "        continue\n",
    "    f, ax = plt.subplots(figsize=(20, 8))\n",
    "    sns.histplot(tubula_muris_h5ad.obs[i], shrink=0.7, ax=ax)\n",
    "    plt.xticks(\n",
    "        rotation=90,\n",
    "        horizontalalignment='right',\n",
    "    )\n",
    "    plt.show()"
   ]
  },
  {
   "cell_type": "code",
   "execution_count": null,
   "metadata": {},
   "outputs": [],
   "source": [
    "X = tubula_muris_h5ad.X"
   ]
  },
  {
   "cell_type": "code",
   "execution_count": null,
   "metadata": {},
   "outputs": [],
   "source": [
    "DATA_DIR = '/home/tiankang/wusuowei/data/single_cell/MARS/Tabula_Muris/'"
   ]
  },
  {
   "cell_type": "code",
   "execution_count": null,
   "metadata": {},
   "outputs": [],
   "source": [
    "X = tubula_muris_h5ad.X.copy()\n",
    "ss.save_npz(DATA_DIR + 'count.npz', X)"
   ]
  },
  {
   "cell_type": "code",
   "execution_count": null,
   "metadata": {},
   "outputs": [],
   "source": [
    "tubula_muris_h5ad.obs.to_csv(DATA_DIR + 'label.csv')"
   ]
  },
  {
   "cell_type": "code",
   "execution_count": null,
   "metadata": {},
   "outputs": [],
   "source": [
    "pipeline = importlib.reload(pipeline)"
   ]
  },
  {
   "cell_type": "code",
   "execution_count": null,
   "metadata": {},
   "outputs": [],
   "source": [
    "X_normalized, labels = pipeline.normalize(\n",
    "    X,\n",
    "    tubula_muris_h5ad.obs.cell_ontology_class_reannotated,\n",
    "    clip_q=99,\n",
    "    gene_min_cells=50,\n",
    "    gene_min_counts=100,\n",
    "    cell_min_genes=100,\n",
    "    cell_min_counts=1000,\n",
    "    cell_max_counts=4_000_000,\n",
    "    logic='mine',\n",
    "    plot=True,\n",
    "    preqc_path='./explore/imgs/Tubula_Muris_preqc.jpg',\n",
    "    postqc_path='./explore/imgs/Tubula_Muris_postqc.jpg',\n",
    ")"
   ]
  },
  {
   "cell_type": "code",
   "execution_count": null,
   "metadata": {},
   "outputs": [],
   "source": [
    "labels.isin(labels.value_counts()[labels.value_counts() > 200].index.tolist()[1:]).sum()"
   ]
  },
  {
   "cell_type": "code",
   "execution_count": null,
   "metadata": {},
   "outputs": [],
   "source": [
    "labels.value_counts()[labels.value_counts() <= 200].sum()"
   ]
  },
  {
   "cell_type": "code",
   "execution_count": null,
   "metadata": {},
   "outputs": [],
   "source": [
    "indices = np.random.choice(\n",
    "    np.arange(X_normalized.shape[0])[\n",
    "        labels.isin(\n",
    "            labels.value_counts()[labels.value_counts() > 200].index.tolist()[1:]\n",
    "        )\n",
    "    ],\n",
    "    replace=False,\n",
    "    size=15000\n",
    ")"
   ]
  },
  {
   "cell_type": "code",
   "execution_count": null,
   "metadata": {},
   "outputs": [],
   "source": [
    "mask = np.zeros(X_normalized.shape[0], dtype=bool)\n",
    "mask[indices] = 1"
   ]
  },
  {
   "cell_type": "code",
   "execution_count": null,
   "metadata": {},
   "outputs": [],
   "source": [
    "ids, labels_to_ids_dict = pipeline.labels_to_ids(labels)"
   ]
  },
  {
   "cell_type": "code",
   "execution_count": null,
   "metadata": {},
   "outputs": [],
   "source": [
    "with open(DATA_DIR + 'label_ids.txt', 'w') as f:\n",
    "    for k, v in labels_to_ids_dict.items():\n",
    "        print(k, v, sep='\\t', file=f)"
   ]
  },
  {
   "cell_type": "code",
   "execution_count": null,
   "metadata": {},
   "outputs": [],
   "source": []
  },
  {
   "cell_type": "code",
   "execution_count": null,
   "metadata": {},
   "outputs": [],
   "source": [
    "np.save(DATA_DIR + 'val/labels.npy', ids[mask])\n",
    "np.save(DATA_DIR + 'train/labels.npy', ids[~mask])"
   ]
  },
  {
   "cell_type": "code",
   "execution_count": null,
   "metadata": {},
   "outputs": [],
   "source": [
    "ss.save_npz(DATA_DIR + 'val/data.npz', X_normalized[mask])\r\n",
    "\r\n",
    "ss.save_npz(DATA_DIR + 'train/data.npz', X_normalized[~mask])\r\n",
    "np.save(DATA_DIR + 'train/labels.npy', labels[~mask])"
   ]
  },
  {
   "cell_type": "code",
   "execution_count": null,
   "metadata": {},
   "outputs": [],
   "source": [
    "f, ax = plt.subplots(figsize=(20, 8))\n",
    "sns.histplot(labels, shrink=0.7, ax=ax)\n",
    "plt.xticks(\n",
    "    rotation=90,\n",
    "    horizontalalignment='right',\n",
    ")\n",
    "None"
   ]
  },
  {
   "cell_type": "code",
   "execution_count": null,
   "metadata": {},
   "outputs": [],
   "source": [
    "np.save('./explore/cached/Tubula_Muris_umap.npy', X_umap)"
   ]
  },
  {
   "cell_type": "code",
   "execution_count": null,
   "metadata": {},
   "outputs": [],
   "source": [
    "umap_object, X_umap = pipeline.umap(X_normalized, n_components=3, n_neighbors=50)"
   ]
  },
  {
   "cell_type": "code",
   "execution_count": null,
   "metadata": {},
   "outputs": [],
   "source": [
    "X_umap = np.load('./explore/cached/Tubula_Muris_umap.npy')"
   ]
  },
  {
   "cell_type": "code",
   "execution_count": null,
   "metadata": {},
   "outputs": [],
   "source": [
    "fig = pipeline.plot(\n",
    "    X_umap,\n",
    "    labels=pipeline.label_to_idx(tubula_muris_h5ad.obs.cell_ontology_class_reannotated)[0],\n",
    "    backend='plotly')\n",
    "fig"
   ]
  }
 ],
 "metadata": {
  "interpreter": {
   "hash": "d1bdbded72f024b9331ead61a2f217ed72f340e06ce2ab6198f65373f5944641"
  },
  "kernelspec": {
   "display_name": "Python 3.8.5 64-bit ('base': conda)",
   "name": "python3"
  },
  "language_info": {
   "name": "python",
   "version": ""
  },
  "orig_nbformat": 2
 },
 "nbformat": 4,
 "nbformat_minor": 2
}