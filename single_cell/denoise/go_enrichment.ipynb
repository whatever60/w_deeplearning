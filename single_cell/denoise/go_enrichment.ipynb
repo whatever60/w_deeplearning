{
 "cells": [
  {
   "cell_type": "code",
   "execution_count": 1,
   "metadata": {},
   "outputs": [],
   "source": [
    "import numpy as np\n",
    "import pandas as pd\n",
    "import anndata\n",
    "import pytorch_lightning as pl"
   ]
  },
  {
   "cell_type": "code",
   "execution_count": 2,
   "metadata": {},
   "outputs": [
    {
     "data": {
      "text/html": [
       "<style type='text/css'>\n",
       ".datatable table.frame { margin-bottom: 0; }\n",
       ".datatable table.frame thead { border-bottom: none; }\n",
       ".datatable table.frame tr.coltypes td {  color: #FFFFFF;  line-height: 6px;  padding: 0 0.5em;}\n",
       ".datatable .bool    { background: #DDDD99; }\n",
       ".datatable .object  { background: #565656; }\n",
       ".datatable .int     { background: #5D9E5D; }\n",
       ".datatable .float   { background: #4040CC; }\n",
       ".datatable .str     { background: #CC4040; }\n",
       ".datatable .row_index {  background: var(--jp-border-color3);  border-right: 1px solid var(--jp-border-color0);  color: var(--jp-ui-font-color3);  font-size: 9px;}\n",
       ".datatable .frame tr.coltypes .row_index {  background: var(--jp-border-color0);}\n",
       ".datatable th:nth-child(2) { padding-left: 12px; }\n",
       ".datatable .hellipsis {  color: var(--jp-cell-editor-border-color);}\n",
       ".datatable .vellipsis {  background: var(--jp-layout-color0);  color: var(--jp-cell-editor-border-color);}\n",
       ".datatable .na {  color: var(--jp-cell-editor-border-color);  font-size: 80%;}\n",
       ".datatable .footer { font-size: 9px; }\n",
       ".datatable .frame_dimensions {  background: var(--jp-border-color3);  border-top: 1px solid var(--jp-border-color0);  color: var(--jp-ui-font-color3);  display: inline-block;  opacity: 0.6;  padding: 1px 10px 1px 5px;}\n",
       "</style>\n"
      ],
      "text/plain": [
       "<IPython.core.display.HTML object>"
      ]
     },
     "metadata": {},
     "output_type": "display_data"
    }
   ],
   "source": [
    "from pipeline import read_mtx, qc, normalize"
   ]
  },
  {
   "cell_type": "code",
   "execution_count": 5,
   "metadata": {},
   "outputs": [],
   "source": [
    "DATA_DIR = '/home/tiankang/wusuowei/data/single_cell/babel/snareseq_GSE126074/'\n",
    "DATA_DIR_NCBI = '/home/tiankang/wusuowei/data/ncbi/'"
   ]
  },
  {
   "cell_type": "code",
   "execution_count": 16,
   "metadata": {},
   "outputs": [
    {
     "name": "stdout",
     "output_type": "stream",
     "text": [
      "(10309, 33160)\n"
     ]
    },
    {
     "data": {
      "text/plain": [
       "13183"
      ]
     },
     "execution_count": 16,
     "metadata": {},
     "output_type": "execute_result"
    }
   ],
   "source": [
    "X = read_mtx(DATA_DIR + 'GSE126074_AdBrainCortex_SNAREseq_cDNA.counts.mtx.gz')\n",
    "print(X.shape)\n",
    "X, good_genes, good_cells = qc(X, gene_min_cells=50, gene_min_counts=100, logic='mine')\n",
    "good_genes.sum()"
   ]
  },
  {
   "cell_type": "code",
   "execution_count": 21,
   "metadata": {},
   "outputs": [],
   "source": [
    "snare_gene = pd.read_csv(DATA_DIR + 'GSE126074_AdBrainCortex_SNAREseq_cDNA.genes.tsv.gz', sep='\\t', header=None, squeeze=True)"
   ]
  },
  {
   "cell_type": "code",
   "execution_count": 22,
   "metadata": {},
   "outputs": [
    {
     "data": {
      "text/plain": [
       "0        0610005C13Rik\n",
       "1        0610007P14Rik\n",
       "2        0610009B22Rik\n",
       "3        0610009E02Rik\n",
       "4        0610009L18Rik\n",
       "             ...      \n",
       "33155       Vmn2r-ps83\n",
       "33156          Vmn2r50\n",
       "33157           Vpreb2\n",
       "33158          n-R5s32\n",
       "33159          n-R5s50\n",
       "Name: 0, Length: 33160, dtype: object"
      ]
     },
     "execution_count": 22,
     "metadata": {},
     "output_type": "execute_result"
    }
   ],
   "source": [
    "snare_gene"
   ]
  },
  {
   "cell_type": "code",
   "execution_count": 28,
   "metadata": {},
   "outputs": [
    {
     "data": {
      "text/plain": [
       "True"
      ]
     },
     "execution_count": 28,
     "metadata": {},
     "output_type": "execute_result"
    }
   ],
   "source": [
    "snare_gene.is_unique"
   ]
  },
  {
   "cell_type": "code",
   "execution_count": 65,
   "metadata": {},
   "outputs": [],
   "source": [
    "gene_df = pd.read_csv(DATA_DIR_NCBI + 'human.tsv', sep='\\t', dtype={'chromosome': 'str'}).drop_duplicates(subset='Symbol')"
   ]
  },
  {
   "cell_type": "code",
   "execution_count": 68,
   "metadata": {},
   "outputs": [
    {
     "data": {
      "text/plain": [
       "True"
      ]
     },
     "execution_count": 68,
     "metadata": {},
     "output_type": "execute_result"
    }
   ],
   "source": [
    "gene_df.GeneID.is_unique"
   ]
  },
  {
   "cell_type": "code",
   "execution_count": 41,
   "metadata": {},
   "outputs": [
    {
     "name": "stdout",
     "output_type": "stream",
     "text": [
      "341938\n",
      "Component\n",
      "Function\n",
      "Process\n"
     ]
    }
   ],
   "source": [
    "gene2go_df = pd.read_csv(DATA_DIR_NCBI + 'gene2go', sep='\\t')\n",
    "gene2go_df = gene2go_df[gene2go_df['#tax_id'] == 9606]\n",
    "print(len(gene2go_df))\n",
    "n2a = dict()\n",
    "\n",
    "for name, group in gene2go_df.groupby('Category'):\n",
    "    print(name)\n",
    "    gene2go_dict = dict()\n",
    "    gene2go = group[['GeneID', 'GO_ID']]\n",
    "    for gene_id, go_group in gene2go.groupby('GeneID'):\n",
    "        gene2go_dict[gene_id] = go_group.GO_ID\n",
    "    if name == 'Component':\n",
    "        n2a['CC'] = gene2go_dict\n",
    "    elif name == 'Function':\n",
    "        n2a['MF'] = gene2go_dict\n",
    "    elif name == 'Process':\n",
    "        n2a['BP'] = gene2go_dict\n",
    "    else:\n",
    "        raise NotImplementedError(name)\n"
   ]
  },
  {
   "cell_type": "code",
   "execution_count": 59,
   "metadata": {},
   "outputs": [
    {
     "data": {
      "text/plain": [
       "((18637,), (20680,))"
      ]
     },
     "execution_count": 59,
     "metadata": {},
     "output_type": "execute_result"
    }
   ],
   "source": [
    "gene2go_df.GO_ID.unique().shape, gene2go_df.GeneID.unique().shape"
   ]
  },
  {
   "cell_type": "code",
   "execution_count": 39,
   "metadata": {},
   "outputs": [
    {
     "name": "stdout",
     "output_type": "stream",
     "text": [
      "CC 19527\n",
      "MF 18364\n",
      "BP 18886\n"
     ]
    }
   ],
   "source": [
    "for k, v in n2a.items():\n",
    "    print(k, len(v))"
   ]
  },
  {
   "cell_type": "code",
   "execution_count": 46,
   "metadata": {},
   "outputs": [],
   "source": [
    "from tqdm.auto import tqdm"
   ]
  },
  {
   "cell_type": "code",
   "execution_count": 50,
   "metadata": {},
   "outputs": [
    {
     "data": {
      "text/plain": [
       "array(['GO:0003674'], dtype=object)"
      ]
     },
     "execution_count": 50,
     "metadata": {},
     "output_type": "execute_result"
    }
   ],
   "source": [
    "go_terms"
   ]
  },
  {
   "cell_type": "code",
   "execution_count": 52,
   "metadata": {},
   "outputs": [
    {
     "data": {
      "application/vnd.jupyter.widget-view+json": {
       "model_id": "7385ee2208c14c6cbe0ef7b84cb13034",
       "version_major": 2,
       "version_minor": 0
      },
      "text/plain": [
       "HBox(children=(FloatProgress(value=0.0, max=19527.0), HTML(value='')))"
      ]
     },
     "metadata": {},
     "output_type": "display_data"
    },
    {
     "name": "stdout",
     "output_type": "stream",
     "text": [
      "\n"
     ]
    },
    {
     "data": {
      "application/vnd.jupyter.widget-view+json": {
       "model_id": "bcb576cf9b1143d4a296a738e863a7e9",
       "version_major": 2,
       "version_minor": 0
      },
      "text/plain": [
       "HBox(children=(FloatProgress(value=0.0, max=18364.0), HTML(value='')))"
      ]
     },
     "metadata": {},
     "output_type": "display_data"
    },
    {
     "name": "stdout",
     "output_type": "stream",
     "text": [
      "\n"
     ]
    },
    {
     "data": {
      "application/vnd.jupyter.widget-view+json": {
       "model_id": "d25a0ccbbbda41e2b897882e57484c5e",
       "version_major": 2,
       "version_minor": 0
      },
      "text/plain": [
       "HBox(children=(FloatProgress(value=0.0, max=18886.0), HTML(value='')))"
      ]
     },
     "metadata": {},
     "output_type": "display_data"
    },
    {
     "name": "stdout",
     "output_type": "stream",
     "text": [
      "\n"
     ]
    }
   ],
   "source": [
    "n2a_all = {}\n",
    "for k, v in n2a.items():\n",
    "    for gene_id, go_terms in tqdm(v.items()):\n",
    "        go_terms = go_terms.unique()\n",
    "        if gene_id not in n2a_all:\n",
    "            n2a_all[gene_id] = go_terms\n",
    "        else:\n",
    "            n2a_all[gene_id] = np.concatenate([n2a_all[gene_id], go_terms])"
   ]
  },
  {
   "cell_type": "code",
   "execution_count": 55,
   "metadata": {},
   "outputs": [
    {
     "data": {
      "text/plain": [
       "20680"
      ]
     },
     "execution_count": 55,
     "metadata": {},
     "output_type": "execute_result"
    }
   ],
   "source": [
    "len(n2a_all)"
   ]
  },
  {
   "cell_type": "code",
   "execution_count": 87,
   "metadata": {},
   "outputs": [
    {
     "data": {
      "text/plain": [
       "False"
      ]
     },
     "execution_count": 87,
     "metadata": {},
     "output_type": "execute_result"
    }
   ],
   "source": [
    "'pisd' in gene_df.Symbol.str.lower()"
   ]
  },
  {
   "cell_type": "code",
   "execution_count": 85,
   "metadata": {},
   "outputs": [
    {
     "data": {
      "text/plain": [
       "pisd             2\n",
       "bnc2             1\n",
       "lyn              1\n",
       "nudcd3           1\n",
       "dnah7a           1\n",
       "                ..\n",
       "zfp930           1\n",
       "4921539h07rik    1\n",
       "lrrc16b          1\n",
       "gm43582          1\n",
       "slc7a15          1\n",
       "Name: 0, Length: 13182, dtype: int64"
      ]
     },
     "execution_count": 85,
     "metadata": {},
     "output_type": "execute_result"
    }
   ],
   "source": [
    "snare_gene[good_genes].str.lower().value_counts().sort_values(ascending=False)"
   ]
  },
  {
   "cell_type": "code",
   "execution_count": 82,
   "metadata": {},
   "outputs": [
    {
     "data": {
      "text/plain": [
       "True"
      ]
     },
     "execution_count": 82,
     "metadata": {},
     "output_type": "execute_result"
    }
   ],
   "source": [
    "gene_df.Symbol.str.lower().is_unique"
   ]
  },
  {
   "cell_type": "code",
   "execution_count": 83,
   "metadata": {},
   "outputs": [
    {
     "data": {
      "text/plain": [
       "10464"
      ]
     },
     "execution_count": 83,
     "metadata": {},
     "output_type": "execute_result"
    }
   ],
   "source": [
    "gene_df.Symbol.str.lower().isin(snare_gene[good_genes].str.lower()).sum()"
   ]
  },
  {
   "cell_type": "code",
   "execution_count": 93,
   "metadata": {},
   "outputs": [],
   "source": [
    "good_gene1 = snare_gene[good_genes][snare_gene[good_genes].str.lower().isin(gene_df.Symbol.str.lower())].str.lower()\n",
    "good_gene2 = gene_df.Symbol[gene_df.Symbol.str.lower().isin(snare_gene[good_genes].str.lower())].str.lower()"
   ]
  },
  {
   "cell_type": "code",
   "execution_count": 96,
   "metadata": {},
   "outputs": [
    {
     "data": {
      "text/plain": [
       "((10465,), (10464,), False, True)"
      ]
     },
     "execution_count": 96,
     "metadata": {},
     "output_type": "execute_result"
    }
   ],
   "source": [
    "good_gene1.shape, good_gene2.shape, good_gene1.is_unique, good_gene2.is_unique"
   ]
  },
  {
   "cell_type": "code",
   "execution_count": 104,
   "metadata": {},
   "outputs": [
    {
     "data": {
      "text/plain": [
       "True"
      ]
     },
     "execution_count": 104,
     "metadata": {},
     "output_type": "execute_result"
    }
   ],
   "source": [
    "gene_df.Symbol.str.lower().is_unique"
   ]
  },
  {
   "cell_type": "code",
   "execution_count": 112,
   "metadata": {},
   "outputs": [
    {
     "data": {
      "text/plain": [
       "{1: 3, 2: 4}"
      ]
     },
     "execution_count": 112,
     "metadata": {},
     "output_type": "execute_result"
    }
   ],
   "source": [
    "dict(zip((1,2), (3,4)))"
   ]
  },
  {
   "cell_type": "code",
   "execution_count": 113,
   "metadata": {},
   "outputs": [],
   "source": [
    "name2id = dict(zip(gene_df.Symbol.str.lower(), gene_df.GeneID))"
   ]
  },
  {
   "cell_type": "code",
   "execution_count": 116,
   "metadata": {},
   "outputs": [],
   "source": [
    "good_geneid = list(map(lambda name: name2id[name], good_gene1))"
   ]
  },
  {
   "cell_type": "code",
   "execution_count": 118,
   "metadata": {},
   "outputs": [
    {
     "data": {
      "text/plain": [
       "10465"
      ]
     },
     "execution_count": 118,
     "metadata": {},
     "output_type": "execute_result"
    }
   ],
   "source": [
    "len(good_geneid)"
   ]
  },
  {
   "cell_type": "code",
   "execution_count": 119,
   "metadata": {},
   "outputs": [
    {
     "data": {
      "text/plain": [
       "10328"
      ]
     },
     "execution_count": 119,
     "metadata": {},
     "output_type": "execute_result"
    }
   ],
   "source": [
    "len([id_ for id_ in good_geneid if id_ in n2a_all])"
   ]
  },
  {
   "cell_type": "code",
   "execution_count": 135,
   "metadata": {},
   "outputs": [],
   "source": [
    "gene2go_df = pd.read_csv(DATA_DIR_NCBI + 'gene2go', sep='\\t')\n",
    "gene2go_df = gene2go_df[gene2go_df['#tax_id'] == 9606]"
   ]
  },
  {
   "cell_type": "code",
   "execution_count": 134,
   "metadata": {},
   "outputs": [
    {
     "data": {
      "text/plain": [
       "GeneID  GO_ID     \n",
       "650     GO:0030509    8\n",
       "dtype: int64"
      ]
     },
     "execution_count": 134,
     "metadata": {},
     "output_type": "execute_result"
    }
   ],
   "source": [
    "sizes = gene2go_df.groupby(['GeneID', 'GO_ID']).size()\n",
    "sizes.iloc[sizes.argmax():sizes.argmax()+1]"
   ]
  },
  {
   "cell_type": "code",
   "execution_count": 137,
   "metadata": {},
   "outputs": [
    {
     "data": {
      "text/plain": [
       "<AxesSubplot:ylabel='Frequency'>"
      ]
     },
     "execution_count": 137,
     "metadata": {},
     "output_type": "execute_result"
    },
    {
     "data": {
      "image/png": "[encoded data removed]",
      "text/plain": [
       "<Figure size 432x288 with 1 Axes>"
      ]
     },
     "metadata": {
      "needs_background": "light"
     },
     "output_type": "display_data"
    }
   ],
   "source": [
    "sizes.plot(kind='hist')"
   ]
  },
  {
   "cell_type": "code",
   "execution_count": 136,
   "metadata": {},
   "outputs": [
    {
     "data": {
      "text/html": [
       "<div>\n",
       "<style scoped>\n",
       "    .dataframe tbody tr th:only-of-type {\n",
       "        vertical-align: middle;\n",
       "    }\n",
       "\n",
       "    .dataframe tbody tr th {\n",
       "        vertical-align: top;\n",
       "    }\n",
       "\n",
       "    .dataframe thead th {\n",
       "        text-align: right;\n",
       "    }\n",
       "</style>\n",
       "<table border=\"1\" class=\"dataframe\">\n",
       "  <thead>\n",
       "    <tr style=\"text-align: right;\">\n",
       "      <th></th>\n",
       "      <th>#tax_id</th>\n",
       "      <th>GeneID</th>\n",
       "      <th>GO_ID</th>\n",
       "      <th>Evidence</th>\n",
       "      <th>Qualifier</th>\n",
       "      <th>GO_term</th>\n",
       "      <th>PubMed</th>\n",
       "      <th>Category</th>\n",
       "    </tr>\n",
       "  </thead>\n",
       "  <tbody>\n",
       "    <tr>\n",
       "      <th>656804</th>\n",
       "      <td>9606</td>\n",
       "      <td>650</td>\n",
       "      <td>GO:0030509</td>\n",
       "      <td>IBA</td>\n",
       "      <td>involved_in</td>\n",
       "      <td>BMP signaling pathway</td>\n",
       "      <td>21873635</td>\n",
       "      <td>Process</td>\n",
       "    </tr>\n",
       "    <tr>\n",
       "      <th>656805</th>\n",
       "      <td>9606</td>\n",
       "      <td>650</td>\n",
       "      <td>GO:0030509</td>\n",
       "      <td>IDA</td>\n",
       "      <td>involved_in</td>\n",
       "      <td>BMP signaling pathway</td>\n",
       "      <td>16049014|18436533|20843790</td>\n",
       "      <td>Process</td>\n",
       "    </tr>\n",
       "    <tr>\n",
       "      <th>656806</th>\n",
       "      <td>9606</td>\n",
       "      <td>650</td>\n",
       "      <td>GO:0030509</td>\n",
       "      <td>IEP</td>\n",
       "      <td>involved_in</td>\n",
       "      <td>BMP signaling pathway</td>\n",
       "      <td>16194878</td>\n",
       "      <td>Process</td>\n",
       "    </tr>\n",
       "    <tr>\n",
       "      <th>656807</th>\n",
       "      <td>9606</td>\n",
       "      <td>650</td>\n",
       "      <td>GO:0030509</td>\n",
       "      <td>IGI</td>\n",
       "      <td>involved_in</td>\n",
       "      <td>BMP signaling pathway</td>\n",
       "      <td>22450430</td>\n",
       "      <td>Process</td>\n",
       "    </tr>\n",
       "    <tr>\n",
       "      <th>656808</th>\n",
       "      <td>9606</td>\n",
       "      <td>650</td>\n",
       "      <td>GO:0030509</td>\n",
       "      <td>IMP</td>\n",
       "      <td>acts_upstream_of_or_within</td>\n",
       "      <td>BMP signaling pathway</td>\n",
       "      <td>17472960</td>\n",
       "      <td>Process</td>\n",
       "    </tr>\n",
       "    <tr>\n",
       "      <th>656809</th>\n",
       "      <td>9606</td>\n",
       "      <td>650</td>\n",
       "      <td>GO:0030509</td>\n",
       "      <td>IMP</td>\n",
       "      <td>involved_in</td>\n",
       "      <td>BMP signaling pathway</td>\n",
       "      <td>18326817|19664780</td>\n",
       "      <td>Process</td>\n",
       "    </tr>\n",
       "    <tr>\n",
       "      <th>656810</th>\n",
       "      <td>9606</td>\n",
       "      <td>650</td>\n",
       "      <td>GO:0030509</td>\n",
       "      <td>ISS</td>\n",
       "      <td>involved_in</td>\n",
       "      <td>BMP signaling pathway</td>\n",
       "      <td>-</td>\n",
       "      <td>Process</td>\n",
       "    </tr>\n",
       "    <tr>\n",
       "      <th>656811</th>\n",
       "      <td>9606</td>\n",
       "      <td>650</td>\n",
       "      <td>GO:0030509</td>\n",
       "      <td>TAS</td>\n",
       "      <td>involved_in</td>\n",
       "      <td>BMP signaling pathway</td>\n",
       "      <td>-</td>\n",
       "      <td>Process</td>\n",
       "    </tr>\n",
       "  </tbody>\n",
       "</table>\n",
       "</div>"
      ],
      "text/plain": [
       "        #tax_id  GeneID       GO_ID Evidence                   Qualifier  \\\n",
       "656804     9606     650  GO:0030509      IBA                 involved_in   \n",
       "656805     9606     650  GO:0030509      IDA                 involved_in   \n",
       "656806     9606     650  GO:0030509      IEP                 involved_in   \n",
       "656807     9606     650  GO:0030509      IGI                 involved_in   \n",
       "656808     9606     650  GO:0030509      IMP  acts_upstream_of_or_within   \n",
       "656809     9606     650  GO:0030509      IMP                 involved_in   \n",
       "656810     9606     650  GO:0030509      ISS                 involved_in   \n",
       "656811     9606     650  GO:0030509      TAS                 involved_in   \n",
       "\n",
       "                      GO_term                      PubMed Category  \n",
       "656804  BMP signaling pathway                    21873635  Process  \n",
       "656805  BMP signaling pathway  16049014|18436533|20843790  Process  \n",
       "656806  BMP signaling pathway                    16194878  Process  \n",
       "656807  BMP signaling pathway                    22450430  Process  \n",
       "656808  BMP signaling pathway                    17472960  Process  \n",
       "656809  BMP signaling pathway           18326817|19664780  Process  \n",
       "656810  BMP signaling pathway                           -  Process  \n",
       "656811  BMP signaling pathway                           -  Process  "
      ]
     },
     "execution_count": 136,
     "metadata": {},
     "output_type": "execute_result"
    }
   ],
   "source": [
    "gene2go_df.query('GeneID == 650 & GO_ID == \"GO:0030509\"')"
   ]
  },
  {
   "cell_type": "code",
   "execution_count": 138,
   "metadata": {},
   "outputs": [],
   "source": [
    "from train import Net"
   ]
  },
  {
   "cell_type": "code",
   "execution_count": 139,
   "metadata": {},
   "outputs": [],
   "source": [
    "CHECKPOINT = '/home/tiankang/wusuowei/deeplearning/single_cell/denoise/lightning_logs/version_65/checkpoints/epoch=49-step=12899.ckpt'"
   ]
  },
  {
   "cell_type": "code",
   "execution_count": 140,
   "metadata": {},
   "outputs": [],
   "source": [
    "model = Net.load_from_checkpoint(CHECKPOINT)"
   ]
  },
  {
   "cell_type": "code",
   "execution_count": 148,
   "metadata": {},
   "outputs": [
    {
     "data": {
      "text/plain": [
       "torch.Size([128, 13183])"
      ]
     },
     "execution_count": 148,
     "metadata": {},
     "output_type": "execute_result"
    }
   ],
   "source": [
    "model.model.encoder[0].model[0].weight.shape"
   ]
  },
  {
   "cell_type": "code",
   "execution_count": 3,
   "metadata": {},
   "outputs": [
    {
     "data": {
      "text/plain": [
       "<AxesSubplot:ylabel='Frequency'>"
      ]
     },
     "execution_count": 3,
     "metadata": {},
     "output_type": "execute_result"
    },
    {
     "data": {
      "image/png": "[encoded data removed]",
      "text/plain": [
       "<Figure size 432x288 with 1 Axes>"
      ]
     },
     "metadata": {
      "needs_background": "light"
     },
     "output_type": "display_data"
    }
   ],
   "source": [
    "p = np.load('./data/p.npy')\n",
    "pd.Series(p.flatten()).plot(kind='hist', bins=30)"
   ]
  },
  {
   "cell_type": "code",
   "execution_count": 4,
   "metadata": {},
   "outputs": [
    {
     "data": {
      "text/plain": [
       "<AxesSubplot:ylabel='Frequency'>"
      ]
     },
     "execution_count": 4,
     "metadata": {},
     "output_type": "execute_result"
    },
    {
     "data": {
      "image/png": "[encoded data removed]",
      "text/plain": [
       "<Figure size 432x288 with 1 Axes>"
      ]
     },
     "metadata": {
      "needs_background": "light"
     },
     "output_type": "display_data"
    }
   ],
   "source": [
    "sim = np.load('./data/sim.npy')\n",
    "sim = sim[p < 0.05]\n",
    "pd.Series(sim.flatten()).plot(kind='hist', bins=30)"
   ]
  },
  {
   "cell_type": "code",
   "execution_count": 5,
   "metadata": {},
   "outputs": [
    {
     "data": {
      "text/plain": [
       "<AxesSubplot:ylabel='Frequency'>"
      ]
     },
     "execution_count": 5,
     "metadata": {},
     "output_type": "execute_result"
    },
    {
     "data": {
      "image/png": "[encoded data removed]",
      "text/plain": [
       "<Figure size 432x288 with 1 Axes>"
      ]
     },
     "metadata": {
      "needs_background": "light"
     },
     "output_type": "display_data"
    }
   ],
   "source": [
    "sim = np.load('./data/sim.npy')\n",
    "pd.Series(sim.flatten()).plot(kind='hist', bins=30)"
   ]
  },
  {
   "cell_type": "code",
   "execution_count": null,
   "metadata": {},
   "outputs": [],
   "source": []
  }
 ],
 "metadata": {
  "interpreter": {
   "hash": "d1bdbded72f024b9331ead61a2f217ed72f340e06ce2ab6198f65373f5944641"
  },
  "kernelspec": {
   "display_name": "Python 3.8.5 64-bit ('base': conda)",
   "name": "python3"
  },
  "language_info": {
   "codemirror_mode": {
    "name": "ipython",
    "version": 3
   },
   "file_extension": ".py",
   "mimetype": "text/x-python",
   "name": "python",
   "nbconvert_exporter": "python",
   "pygments_lexer": "ipython3",
   "version": "3.8.5"
  },
  "orig_nbformat": 4
 },
 "nbformat": 4,
 "nbformat_minor": 2
}