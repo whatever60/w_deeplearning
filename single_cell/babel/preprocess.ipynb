{
 "metadata": {
  "language_info": {
   "codemirror_mode": {
    "name": "ipython",
    "version": 3
   },
   "file_extension": ".py",
   "mimetype": "text/x-python",
   "name": "python",
   "nbconvert_exporter": "python",
   "pygments_lexer": "ipython3",
   "version": "3.8.5"
  },
  "orig_nbformat": 2,
  "kernelspec": {
   "name": "python385jvsc74a57bd0d1bdbded72f024b9331ead61a2f217ed72f340e06ce2ab6198f65373f5944641",
   "display_name": "Python 3.8.5 64-bit ('base': conda)"
  }
 },
 "nbformat": 4,
 "nbformat_minor": 2,
 "cells": [
  {
   "cell_type": "code",
   "execution_count": 87,
   "metadata": {},
   "outputs": [],
   "source": [
    "import gc\n",
    "\n",
    "import numpy as np\n",
    "import scipy\n",
    "from scipy import sparse as ss\n",
    "import pandas as pd\n",
    "import datatable as dt\n",
    "\n",
    "def read_raw(count_file, cell_file, gene_file):\n",
    "    df = dt.fread(count_file, skip_to_line=2, header=False).to_pandas()\n",
    "    print(df.columns)\n",
    "    cell_df = pd.read_csv(cell_file, header=None, names=['cell'], index_col=0, squeeze=True)\n",
    "    gene_df = pd.read_csv(gene_file, header=None, names=['gene'], index_col=0, squeeze=True)\n",
    "    df.columns = ['gene', 'cell', 'count']\n",
    "    gene_num, cell_num, total_count = df.iloc[0]\n",
    "    df.drop(index=0, inplace=True)\n",
    "    X = ss.csr_matrix((df.count, (df.cell, df.gene)), shape=(cell_num, gene_num))\n",
    "\n",
    "    df = pd.DataFrame.sparse.from_spmatrix(X, index=cell_df, columns=gene_df)\n",
    "    return df"
   ]
  },
  {
   "cell_type": "code",
   "execution_count": 2,
   "metadata": {},
   "outputs": [],
   "source": [
    "data_dir = '/home/tiankang/wusuowei/data/single_cell/babel/'\n",
    "snare_data_dir = data_dir + 'snareseq_GSE126074/'"
   ]
  },
  {
   "cell_type": "code",
   "execution_count": 3,
   "metadata": {},
   "outputs": [],
   "source": [
    "count_file = 'GSE126074_AdBrainCortex_SNAREseq_cDNA.counts.mtx.gz'\n",
    "cell_file = 'GSE126074_AdBrainCortex_SNAREseq_cDNA.barcodes.tsv.gz'\n",
    "gene_file = 'GSE126074_AdBrainCortex_SNAREseq_cDNA.genes.tsv.gz'"
   ]
  },
  {
   "cell_type": "code",
   "execution_count": 7,
   "metadata": {},
   "outputs": [
    {
     "output_type": "stream",
     "name": "stdout",
     "text": [
      "Index(['C0', 'C1', 'C2'], dtype='object')\n"
     ]
    }
   ],
   "source": [
    "df = dt.fread(snare_data_dir + count_file, skip_to_line=2, header=False).to_pandas()"
   ]
  },
  {
   "cell_type": "code",
   "execution_count": 14,
   "metadata": {},
   "outputs": [],
   "source": [
    "df.columns = ['gene', 'cell', 'counts']"
   ]
  },
  {
   "cell_type": "code",
   "execution_count": 10,
   "metadata": {},
   "outputs": [
    {
     "output_type": "execute_result",
     "data": {
      "text/plain": [
       "          gene   cell  count\n",
       "1            3      1      1\n",
       "2           13      1      1\n",
       "3           17      1      1\n",
       "4           45      1      1\n",
       "5           60      1      1\n",
       "...        ...    ...    ...\n",
       "9805809  22603  10309      1\n",
       "9805810  23102  10309      1\n",
       "9805811  23118  10309      1\n",
       "9805812  23140  10309      1\n",
       "9805813  26520  10309      2\n",
       "\n",
       "[9805813 rows x 3 columns]"
      ],
      "text/html": "<div>\n<style scoped>\n    .dataframe tbody tr th:only-of-type {\n        vertical-align: middle;\n    }\n\n    .dataframe tbody tr th {\n        vertical-align: top;\n    }\n\n    .dataframe thead th {\n        text-align: right;\n    }\n</style>\n<table border=\"1\" class=\"dataframe\">\n  <thead>\n    <tr style=\"text-align: right;\">\n      <th></th>\n      <th>gene</th>\n      <th>cell</th>\n      <th>count</th>\n    </tr>\n  </thead>\n  <tbody>\n    <tr>\n      <th>1</th>\n      <td>3</td>\n      <td>1</td>\n      <td>1</td>\n    </tr>\n    <tr>\n      <th>2</th>\n      <td>13</td>\n      <td>1</td>\n      <td>1</td>\n    </tr>\n    <tr>\n      <th>3</th>\n      <td>17</td>\n      <td>1</td>\n      <td>1</td>\n    </tr>\n    <tr>\n      <th>4</th>\n      <td>45</td>\n      <td>1</td>\n      <td>1</td>\n    </tr>\n    <tr>\n      <th>5</th>\n      <td>60</td>\n      <td>1</td>\n      <td>1</td>\n    </tr>\n    <tr>\n      <th>...</th>\n      <td>...</td>\n      <td>...</td>\n      <td>...</td>\n    </tr>\n    <tr>\n      <th>9805809</th>\n      <td>22603</td>\n      <td>10309</td>\n      <td>1</td>\n    </tr>\n    <tr>\n      <th>9805810</th>\n      <td>23102</td>\n      <td>10309</td>\n      <td>1</td>\n    </tr>\n    <tr>\n      <th>9805811</th>\n      <td>23118</td>\n      <td>10309</td>\n      <td>1</td>\n    </tr>\n    <tr>\n      <th>9805812</th>\n      <td>23140</td>\n      <td>10309</td>\n      <td>1</td>\n    </tr>\n    <tr>\n      <th>9805813</th>\n      <td>26520</td>\n      <td>10309</td>\n      <td>2</td>\n    </tr>\n  </tbody>\n</table>\n<p>9805813 rows × 3 columns</p>\n</div>"
     },
     "metadata": {},
     "execution_count": 10
    }
   ],
   "source": [
    "gene_num, cell_num, total_count = df.iloc[0]\n",
    "df.drop(index=0, inplace=True)\n",
    "df"
   ]
  },
  {
   "cell_type": "code",
   "execution_count": 19,
   "metadata": {},
   "outputs": [],
   "source": [
    "df.cell -= 1\n",
    "df.gene -= 1"
   ]
  },
  {
   "cell_type": "code",
   "execution_count": 23,
   "metadata": {},
   "outputs": [],
   "source": [
    "X = ss.csr_matrix((df.counts, (df.cell, df.gene)), shape=(cell_num, gene_num))"
   ]
  },
  {
   "cell_type": "code",
   "execution_count": 36,
   "metadata": {},
   "outputs": [
    {
     "output_type": "execute_result",
     "data": {
      "text/plain": [
       "(10309, 33160)"
      ]
     },
     "metadata": {},
     "execution_count": 36
    }
   ],
   "source": [
    "cell_num, gene_num"
   ]
  },
  {
   "cell_type": "code",
   "execution_count": 40,
   "metadata": {},
   "outputs": [
    {
     "output_type": "execute_result",
     "data": {
      "text/plain": [
       "0        0610005C13Rik\n",
       "1        0610007P14Rik\n",
       "2        0610009B22Rik\n",
       "3        0610009E02Rik\n",
       "4        0610009L18Rik\n",
       "             ...      \n",
       "33155       Vmn2r-ps83\n",
       "33156          Vmn2r50\n",
       "33157           Vpreb2\n",
       "33158          n-R5s32\n",
       "33159          n-R5s50\n",
       "Name: gene, Length: 33160, dtype: object"
      ]
     },
     "metadata": {},
     "execution_count": 40
    }
   ],
   "source": [
    "cell_df = pd.read_csv(snare_data_dir + cell_file, header=None, names=['cell'], squeeze=True)\n",
    "gene_df = pd.read_csv(snare_data_dir + gene_file, header=None, names=['gene'], squeeze=True)\n",
    "gene_df"
   ]
  },
  {
   "cell_type": "code",
   "execution_count": 41,
   "metadata": {},
   "outputs": [],
   "source": [
    "df = pd.DataFrame.sparse.from_spmatrix(X, index=cell_df, columns=gene_df)"
   ]
  },
  {
   "cell_type": "code",
   "execution_count": 73,
   "metadata": {},
   "outputs": [
    {
     "output_type": "execute_result",
     "data": {
      "text/plain": [
       "gene              0610005C13Rik  0610007P14Rik  0610009B22Rik  0610009E02Rik  \\\n",
       "cell                                                                           \n",
       "09A_AAACCAACGCCT              0              0              0              0   \n",
       "09A_AAACGTAGACAC              0              0              0              0   \n",
       "09A_AAAGAATCCGTT              0              0              0              0   \n",
       "09A_AAAGGGATTCCT              0              0              0              0   \n",
       "09A_AAAGTAAAAGGA              0              0              0              0   \n",
       "...                         ...            ...            ...            ...   \n",
       "09L_TTTGAACTAAGG              0              0              0              0   \n",
       "09L_TTTGCATGCCCA              0              0              0              0   \n",
       "09L_TTTTACCGATAT              0              0              0              0   \n",
       "09L_TTTTACGTCTTG              0              0              0              0   \n",
       "09L_TTTTCTATTAAG              0              0              0              0   \n",
       "\n",
       "gene              0610009L18Rik  0610009O20Rik  0610010F05Rik  0610030E20Rik  \\\n",
       "cell                                                                           \n",
       "09A_AAACCAACGCCT              0              0              0              1   \n",
       "09A_AAACGTAGACAC              1              0              0              0   \n",
       "09A_AAAGAATCCGTT              0              0              0              1   \n",
       "09A_AAAGGGATTCCT              0              0              0              0   \n",
       "09A_AAAGTAAAAGGA              0              0              1              0   \n",
       "...                         ...            ...            ...            ...   \n",
       "09L_TTTGAACTAAGG              0              0              0              0   \n",
       "09L_TTTGCATGCCCA              0              0              0              0   \n",
       "09L_TTTTACCGATAT              0              1              0              0   \n",
       "09L_TTTTACGTCTTG              0              0              1              0   \n",
       "09L_TTTTCTATTAAG              0              0              0              0   \n",
       "\n",
       "gene              0610031O16Rik  0610037L13Rik  ...  Vmn1r68  Vmn1r82  \\\n",
       "cell                                            ...                     \n",
       "09A_AAACCAACGCCT              0              0  ...        0        0   \n",
       "09A_AAACGTAGACAC              0              0  ...        0        0   \n",
       "09A_AAAGAATCCGTT              0              0  ...        0        0   \n",
       "09A_AAAGGGATTCCT              0              0  ...        0        0   \n",
       "09A_AAAGTAAAAGGA              0              0  ...        0        0   \n",
       "...                         ...            ...  ...      ...      ...   \n",
       "09L_TTTGAACTAAGG              0              0  ...        0        0   \n",
       "09L_TTTGCATGCCCA              0              0  ...        0        0   \n",
       "09L_TTTTACCGATAT              0              1  ...        0        0   \n",
       "09L_TTTTACGTCTTG              0              0  ...        0        0   \n",
       "09L_TTTTCTATTAAG              0              0  ...        0        0   \n",
       "\n",
       "gene              Vmn2r-ps23  Vmn2r-ps24  Vmn2r-ps45  Vmn2r-ps83  Vmn2r50  \\\n",
       "cell                                                                        \n",
       "09A_AAACCAACGCCT           0           0           0           0        0   \n",
       "09A_AAACGTAGACAC           0           0           0           0        0   \n",
       "09A_AAAGAATCCGTT           0           0           0           0        0   \n",
       "09A_AAAGGGATTCCT           0           0           0           0        0   \n",
       "09A_AAAGTAAAAGGA           0           0           0           0        0   \n",
       "...                      ...         ...         ...         ...      ...   \n",
       "09L_TTTGAACTAAGG           0           0           0           0        0   \n",
       "09L_TTTGCATGCCCA           0           0           0           0        0   \n",
       "09L_TTTTACCGATAT           0           0           0           0        0   \n",
       "09L_TTTTACGTCTTG           0           0           0           0        0   \n",
       "09L_TTTTCTATTAAG           0           0           0           0        0   \n",
       "\n",
       "gene              Vpreb2  n-R5s32  n-R5s50  \n",
       "cell                                        \n",
       "09A_AAACCAACGCCT       0        0        0  \n",
       "09A_AAACGTAGACAC       0        0        0  \n",
       "09A_AAAGAATCCGTT       0        0        0  \n",
       "09A_AAAGGGATTCCT       0        0        0  \n",
       "09A_AAAGTAAAAGGA       0        0        0  \n",
       "...                  ...      ...      ...  \n",
       "09L_TTTGAACTAAGG       0        0        0  \n",
       "09L_TTTGCATGCCCA       0        0        0  \n",
       "09L_TTTTACCGATAT       0        0        0  \n",
       "09L_TTTTACGTCTTG       0        0        0  \n",
       "09L_TTTTCTATTAAG       0        0        0  \n",
       "\n",
       "[10309 rows x 33160 columns]"
      ],
      "text/html": "<div>\n<style scoped>\n    .dataframe tbody tr th:only-of-type {\n        vertical-align: middle;\n    }\n\n    .dataframe tbody tr th {\n        vertical-align: top;\n    }\n\n    .dataframe thead th {\n        text-align: right;\n    }\n</style>\n<table border=\"1\" class=\"dataframe\">\n  <thead>\n    <tr style=\"text-align: right;\">\n      <th>gene</th>\n      <th>0610005C13Rik</th>\n      <th>0610007P14Rik</th>\n      <th>0610009B22Rik</th>\n      <th>0610009E02Rik</th>\n      <th>0610009L18Rik</th>\n      <th>0610009O20Rik</th>\n      <th>0610010F05Rik</th>\n      <th>0610030E20Rik</th>\n      <th>0610031O16Rik</th>\n      <th>0610037L13Rik</th>\n      <th>...</th>\n      <th>Vmn1r68</th>\n      <th>Vmn1r82</th>\n      <th>Vmn2r-ps23</th>\n      <th>Vmn2r-ps24</th>\n      <th>Vmn2r-ps45</th>\n      <th>Vmn2r-ps83</th>\n      <th>Vmn2r50</th>\n      <th>Vpreb2</th>\n      <th>n-R5s32</th>\n      <th>n-R5s50</th>\n    </tr>\n    <tr>\n      <th>cell</th>\n      <th></th>\n      <th></th>\n      <th></th>\n      <th></th>\n      <th></th>\n      <th></th>\n      <th></th>\n      <th></th>\n      <th></th>\n      <th></th>\n      <th></th>\n      <th></th>\n      <th></th>\n      <th></th>\n      <th></th>\n      <th></th>\n      <th></th>\n      <th></th>\n      <th></th>\n      <th></th>\n      <th></th>\n    </tr>\n  </thead>\n  <tbody>\n    <tr>\n      <th>09A_AAACCAACGCCT</th>\n      <td>0</td>\n      <td>0</td>\n      <td>0</td>\n      <td>0</td>\n      <td>0</td>\n      <td>0</td>\n      <td>0</td>\n      <td>1</td>\n      <td>0</td>\n      <td>0</td>\n      <td>...</td>\n      <td>0</td>\n      <td>0</td>\n      <td>0</td>\n      <td>0</td>\n      <td>0</td>\n      <td>0</td>\n      <td>0</td>\n      <td>0</td>\n      <td>0</td>\n      <td>0</td>\n    </tr>\n    <tr>\n      <th>09A_AAACGTAGACAC</th>\n      <td>0</td>\n      <td>0</td>\n      <td>0</td>\n      <td>0</td>\n      <td>1</td>\n      <td>0</td>\n      <td>0</td>\n      <td>0</td>\n      <td>0</td>\n      <td>0</td>\n      <td>...</td>\n      <td>0</td>\n      <td>0</td>\n      <td>0</td>\n      <td>0</td>\n      <td>0</td>\n      <td>0</td>\n      <td>0</td>\n      <td>0</td>\n      <td>0</td>\n      <td>0</td>\n    </tr>\n    <tr>\n      <th>09A_AAAGAATCCGTT</th>\n      <td>0</td>\n      <td>0</td>\n      <td>0</td>\n      <td>0</td>\n      <td>0</td>\n      <td>0</td>\n      <td>0</td>\n      <td>1</td>\n      <td>0</td>\n      <td>0</td>\n      <td>...</td>\n      <td>0</td>\n      <td>0</td>\n      <td>0</td>\n      <td>0</td>\n      <td>0</td>\n      <td>0</td>\n      <td>0</td>\n      <td>0</td>\n      <td>0</td>\n      <td>0</td>\n    </tr>\n    <tr>\n      <th>09A_AAAGGGATTCCT</th>\n      <td>0</td>\n      <td>0</td>\n      <td>0</td>\n      <td>0</td>\n      <td>0</td>\n      <td>0</td>\n      <td>0</td>\n      <td>0</td>\n      <td>0</td>\n      <td>0</td>\n      <td>...</td>\n      <td>0</td>\n      <td>0</td>\n      <td>0</td>\n      <td>0</td>\n      <td>0</td>\n      <td>0</td>\n      <td>0</td>\n      <td>0</td>\n      <td>0</td>\n      <td>0</td>\n    </tr>\n    <tr>\n      <th>09A_AAAGTAAAAGGA</th>\n      <td>0</td>\n      <td>0</td>\n      <td>0</td>\n      <td>0</td>\n      <td>0</td>\n      <td>0</td>\n      <td>1</td>\n      <td>0</td>\n      <td>0</td>\n      <td>0</td>\n      <td>...</td>\n      <td>0</td>\n      <td>0</td>\n      <td>0</td>\n      <td>0</td>\n      <td>0</td>\n      <td>0</td>\n      <td>0</td>\n      <td>0</td>\n      <td>0</td>\n      <td>0</td>\n    </tr>\n    <tr>\n      <th>...</th>\n      <td>...</td>\n      <td>...</td>\n      <td>...</td>\n      <td>...</td>\n      <td>...</td>\n      <td>...</td>\n      <td>...</td>\n      <td>...</td>\n      <td>...</td>\n      <td>...</td>\n      <td>...</td>\n      <td>...</td>\n      <td>...</td>\n      <td>...</td>\n      <td>...</td>\n      <td>...</td>\n      <td>...</td>\n      <td>...</td>\n      <td>...</td>\n      <td>...</td>\n      <td>...</td>\n    </tr>\n    <tr>\n      <th>09L_TTTGAACTAAGG</th>\n      <td>0</td>\n      <td>0</td>\n      <td>0</td>\n      <td>0</td>\n      <td>0</td>\n      <td>0</td>\n      <td>0</td>\n      <td>0</td>\n      <td>0</td>\n      <td>0</td>\n      <td>...</td>\n      <td>0</td>\n      <td>0</td>\n      <td>0</td>\n      <td>0</td>\n      <td>0</td>\n      <td>0</td>\n      <td>0</td>\n      <td>0</td>\n      <td>0</td>\n      <td>0</td>\n    </tr>\n    <tr>\n      <th>09L_TTTGCATGCCCA</th>\n      <td>0</td>\n      <td>0</td>\n      <td>0</td>\n      <td>0</td>\n      <td>0</td>\n      <td>0</td>\n      <td>0</td>\n      <td>0</td>\n      <td>0</td>\n      <td>0</td>\n      <td>...</td>\n      <td>0</td>\n      <td>0</td>\n      <td>0</td>\n      <td>0</td>\n      <td>0</td>\n      <td>0</td>\n      <td>0</td>\n      <td>0</td>\n      <td>0</td>\n      <td>0</td>\n    </tr>\n    <tr>\n      <th>09L_TTTTACCGATAT</th>\n      <td>0</td>\n      <td>0</td>\n      <td>0</td>\n      <td>0</td>\n      <td>0</td>\n      <td>1</td>\n      <td>0</td>\n      <td>0</td>\n      <td>0</td>\n      <td>1</td>\n      <td>...</td>\n      <td>0</td>\n      <td>0</td>\n      <td>0</td>\n      <td>0</td>\n      <td>0</td>\n      <td>0</td>\n      <td>0</td>\n      <td>0</td>\n      <td>0</td>\n      <td>0</td>\n    </tr>\n    <tr>\n      <th>09L_TTTTACGTCTTG</th>\n      <td>0</td>\n      <td>0</td>\n      <td>0</td>\n      <td>0</td>\n      <td>0</td>\n      <td>0</td>\n      <td>1</td>\n      <td>0</td>\n      <td>0</td>\n      <td>0</td>\n      <td>...</td>\n      <td>0</td>\n      <td>0</td>\n      <td>0</td>\n      <td>0</td>\n      <td>0</td>\n      <td>0</td>\n      <td>0</td>\n      <td>0</td>\n      <td>0</td>\n      <td>0</td>\n    </tr>\n    <tr>\n      <th>09L_TTTTCTATTAAG</th>\n      <td>0</td>\n      <td>0</td>\n      <td>0</td>\n      <td>0</td>\n      <td>0</td>\n      <td>0</td>\n      <td>0</td>\n      <td>0</td>\n      <td>0</td>\n      <td>0</td>\n      <td>...</td>\n      <td>0</td>\n      <td>0</td>\n      <td>0</td>\n      <td>0</td>\n      <td>0</td>\n      <td>0</td>\n      <td>0</td>\n      <td>0</td>\n      <td>0</td>\n      <td>0</td>\n    </tr>\n  </tbody>\n</table>\n<p>10309 rows × 33160 columns</p>\n</div>"
     },
     "metadata": {},
     "execution_count": 73
    }
   ],
   "source": [
    "df"
   ]
  },
  {
   "cell_type": "code",
   "execution_count": 74,
   "metadata": {},
   "outputs": [
    {
     "output_type": "execute_result",
     "data": {
      "text/plain": [
       "gene\n",
       "0610005C13Rik    Sparse[int64, 0]\n",
       "0610007P14Rik    Sparse[int64, 0]\n",
       "0610009B22Rik    Sparse[int64, 0]\n",
       "0610009E02Rik    Sparse[int64, 0]\n",
       "0610009L18Rik    Sparse[int64, 0]\n",
       "                       ...       \n",
       "Vmn2r-ps83       Sparse[int32, 0]\n",
       "Vmn2r50          Sparse[int32, 0]\n",
       "Vpreb2           Sparse[int32, 0]\n",
       "n-R5s32          Sparse[int32, 0]\n",
       "n-R5s50          Sparse[int64, 0]\n",
       "Length: 33160, dtype: object"
      ]
     },
     "metadata": {},
     "execution_count": 74
    }
   ],
   "source": [
    "df.dtypes"
   ]
  },
  {
   "cell_type": "code",
   "execution_count": 96,
   "metadata": {},
   "outputs": [],
   "source": [
    "df = df.astype('Sparse[int16]')"
   ]
  },
  {
   "cell_type": "code",
   "execution_count": 97,
   "metadata": {},
   "outputs": [
    {
     "output_type": "stream",
     "name": "stdout",
     "text": [
      "<class 'pandas.core.frame.DataFrame'>\nIndex: 10309 entries, 09A_AAACCAACGCCT to 09L_TTTTCTATTAAG\nColumns: 33160 entries, 0610005C13Rik to n-R5s50\ndtypes: Sparse[int16, 0](33160)\nmemory usage: 56.5+ MB\n"
     ]
    }
   ],
   "source": [
    "df.info()"
   ]
  },
  {
   "cell_type": "code",
   "execution_count": 103,
   "metadata": {},
   "outputs": [
    {
     "output_type": "execute_result",
     "data": {
      "text/plain": [
       "<33160x10309 sparse matrix of type '<class 'numpy.int16'>'\n",
       "\twith 9805813 stored elements in Compressed Sparse Column format>"
      ]
     },
     "metadata": {},
     "execution_count": 103
    }
   ],
   "source": [
    "df.sparse.to_coo().tocsr().T"
   ]
  },
  {
   "cell_type": "code",
   "execution_count": 99,
   "metadata": {},
   "outputs": [
    {
     "output_type": "stream",
     "name": "stdout",
     "text": [
      "<class 'pandas.core.frame.DataFrame'>\nIndex: 10309 entries, 09A_AAACCAACGCCT to 09L_TTTTCTATTAAG\nColumns: 33160 entries, 0610005C13Rik to n-R5s50\ndtypes: Sparse[int16, 1](33160)\nmemory usage: 56.5+ MB\n"
     ]
    }
   ],
   "source": [
    "(df+1).info()"
   ]
  },
  {
   "cell_type": "code",
   "execution_count": null,
   "metadata": {},
   "outputs": [],
   "source": []
  },
  {
   "cell_type": "code",
   "execution_count": 64,
   "metadata": {},
   "outputs": [],
   "source": [
    "dummy_df = pd.DataFrame([[1,2,3],[3,4,5]])"
   ]
  },
  {
   "cell_type": "code",
   "execution_count": 66,
   "metadata": {},
   "outputs": [
    {
     "output_type": "execute_result",
     "data": {
      "text/plain": [
       "   0  1  2\n",
       "0  1  2  3"
      ],
      "text/html": "<div>\n<style scoped>\n    .dataframe tbody tr th:only-of-type {\n        vertical-align: middle;\n    }\n\n    .dataframe tbody tr th {\n        vertical-align: top;\n    }\n\n    .dataframe thead th {\n        text-align: right;\n    }\n</style>\n<table border=\"1\" class=\"dataframe\">\n  <thead>\n    <tr style=\"text-align: right;\">\n      <th></th>\n      <th>0</th>\n      <th>1</th>\n      <th>2</th>\n    </tr>\n  </thead>\n  <tbody>\n    <tr>\n      <th>0</th>\n      <td>1</td>\n      <td>2</td>\n      <td>3</td>\n    </tr>\n  </tbody>\n</table>\n</div>"
     },
     "metadata": {},
     "execution_count": 66
    }
   ],
   "source": [
    "dummy_df.iloc[[True,False]]"
   ]
  },
  {
   "cell_type": "code",
   "execution_count": 38,
   "metadata": {},
   "outputs": [],
   "source": [
    "gene_num, cell_num, total_count = X.iloc[0]"
   ]
  },
  {
   "cell_type": "code",
   "execution_count": 39,
   "metadata": {},
   "outputs": [
    {
     "output_type": "execute_result",
     "data": {
      "text/plain": [
       "33160"
      ]
     },
     "metadata": {},
     "execution_count": 39
    }
   ],
   "source": [
    "gene_num"
   ]
  },
  {
   "cell_type": "code",
   "execution_count": null,
   "metadata": {},
   "outputs": [],
   "source": [
    "df = pd.DataFrame.sparse.from_spmatrix(sparse.csr_matrix(X.count))"
   ]
  },
  {
   "cell_type": "code",
   "execution_count": 35,
   "metadata": {},
   "outputs": [],
   "source": [
    "X.columns = ['gene', 'cell', 'count']"
   ]
  },
  {
   "cell_type": "code",
   "execution_count": 36,
   "metadata": {},
   "outputs": [
    {
     "output_type": "execute_result",
     "data": {
      "text/plain": [
       "          gene   cell  count\n",
       "0            3      1      1\n",
       "1           13      1      1\n",
       "2           17      1      1\n",
       "3           45      1      1\n",
       "4           60      1      1\n",
       "...        ...    ...    ...\n",
       "9805808  22603  10309      1\n",
       "9805809  23102  10309      1\n",
       "9805810  23118  10309      1\n",
       "9805811  23140  10309      1\n",
       "9805812  26520  10309      2\n",
       "\n",
       "[9805813 rows x 3 columns]"
      ],
      "text/html": "<div>\n<style scoped>\n    .dataframe tbody tr th:only-of-type {\n        vertical-align: middle;\n    }\n\n    .dataframe tbody tr th {\n        vertical-align: top;\n    }\n\n    .dataframe thead th {\n        text-align: right;\n    }\n</style>\n<table border=\"1\" class=\"dataframe\">\n  <thead>\n    <tr style=\"text-align: right;\">\n      <th></th>\n      <th>gene</th>\n      <th>cell</th>\n      <th>count</th>\n    </tr>\n  </thead>\n  <tbody>\n    <tr>\n      <th>0</th>\n      <td>3</td>\n      <td>1</td>\n      <td>1</td>\n    </tr>\n    <tr>\n      <th>1</th>\n      <td>13</td>\n      <td>1</td>\n      <td>1</td>\n    </tr>\n    <tr>\n      <th>2</th>\n      <td>17</td>\n      <td>1</td>\n      <td>1</td>\n    </tr>\n    <tr>\n      <th>3</th>\n      <td>45</td>\n      <td>1</td>\n      <td>1</td>\n    </tr>\n    <tr>\n      <th>4</th>\n      <td>60</td>\n      <td>1</td>\n      <td>1</td>\n    </tr>\n    <tr>\n      <th>...</th>\n      <td>...</td>\n      <td>...</td>\n      <td>...</td>\n    </tr>\n    <tr>\n      <th>9805808</th>\n      <td>22603</td>\n      <td>10309</td>\n      <td>1</td>\n    </tr>\n    <tr>\n      <th>9805809</th>\n      <td>23102</td>\n      <td>10309</td>\n      <td>1</td>\n    </tr>\n    <tr>\n      <th>9805810</th>\n      <td>23118</td>\n      <td>10309</td>\n      <td>1</td>\n    </tr>\n    <tr>\n      <th>9805811</th>\n      <td>23140</td>\n      <td>10309</td>\n      <td>1</td>\n    </tr>\n    <tr>\n      <th>9805812</th>\n      <td>26520</td>\n      <td>10309</td>\n      <td>2</td>\n    </tr>\n  </tbody>\n</table>\n<p>9805813 rows × 3 columns</p>\n</div>"
     },
     "metadata": {},
     "execution_count": 36
    }
   ],
   "source": [
    "X"
   ]
  },
  {
   "cell_type": "code",
   "execution_count": 16,
   "metadata": {},
   "outputs": [],
   "source": [
    "gene = X.iloc[1:, 0]\n",
    "cell = X.iloc[1:, 1]\n",
    "count = X.iloc[1:, 2]"
   ]
  },
  {
   "cell_type": "code",
   "execution_count": 17,
   "metadata": {},
   "outputs": [
    {
     "output_type": "execute_result",
     "data": {
      "text/plain": [
       "1              3\n",
       "2             13\n",
       "3             17\n",
       "4             45\n",
       "5             60\n",
       "           ...  \n",
       "9805809    22603\n",
       "9805810    23102\n",
       "9805811    23118\n",
       "9805812    23140\n",
       "9805813    26520\n",
       "Name: %%MatrixMarket, Length: 9805813, dtype: int32"
      ]
     },
     "metadata": {},
     "execution_count": 17
    }
   ],
   "source": [
    "gene"
   ]
  },
  {
   "cell_type": "code",
   "execution_count": 13,
   "metadata": {},
   "outputs": [
    {
     "output_type": "execute_result",
     "data": {
      "text/plain": [
       "       09A_CAGCCCCGCCTT\n",
       "0      09A_CGCCTACCATGA\n",
       "1      09A_GATGCGCGGCTA\n",
       "2      09A_GGTCCGAGTCCT\n",
       "3      09A_TCTCCCGGCACC\n",
       "4      09A_ACCAAATCTTGT\n",
       "...                 ...\n",
       "10303  09L_TACTAGTTCAAG\n",
       "10304  09L_ATGACGGGCCCC\n",
       "10305  09L_GAAACACCTCAT\n",
       "10306  09L_AACGGTTTATCC\n",
       "10307  09L_GACTGATACAGT\n",
       "\n",
       "[10308 rows x 1 columns]"
      ],
      "text/html": "<div>\n<style scoped>\n    .dataframe tbody tr th:only-of-type {\n        vertical-align: middle;\n    }\n\n    .dataframe tbody tr th {\n        vertical-align: top;\n    }\n\n    .dataframe thead th {\n        text-align: right;\n    }\n</style>\n<table border=\"1\" class=\"dataframe\">\n  <thead>\n    <tr style=\"text-align: right;\">\n      <th></th>\n      <th>09A_CAGCCCCGCCTT</th>\n    </tr>\n  </thead>\n  <tbody>\n    <tr>\n      <th>0</th>\n      <td>09A_CGCCTACCATGA</td>\n    </tr>\n    <tr>\n      <th>1</th>\n      <td>09A_GATGCGCGGCTA</td>\n    </tr>\n    <tr>\n      <th>2</th>\n      <td>09A_GGTCCGAGTCCT</td>\n    </tr>\n    <tr>\n      <th>3</th>\n      <td>09A_TCTCCCGGCACC</td>\n    </tr>\n    <tr>\n      <th>4</th>\n      <td>09A_ACCAAATCTTGT</td>\n    </tr>\n    <tr>\n      <th>...</th>\n      <td>...</td>\n    </tr>\n    <tr>\n      <th>10303</th>\n      <td>09L_TACTAGTTCAAG</td>\n    </tr>\n    <tr>\n      <th>10304</th>\n      <td>09L_ATGACGGGCCCC</td>\n    </tr>\n    <tr>\n      <th>10305</th>\n      <td>09L_GAAACACCTCAT</td>\n    </tr>\n    <tr>\n      <th>10306</th>\n      <td>09L_AACGGTTTATCC</td>\n    </tr>\n    <tr>\n      <th>10307</th>\n      <td>09L_GACTGATACAGT</td>\n    </tr>\n  </tbody>\n</table>\n<p>10308 rows × 1 columns</p>\n</div>"
     },
     "metadata": {},
     "execution_count": 13
    }
   ],
   "source": [
    "pd.read_csv(snare_data_dir + 'GSE126074_AdBrainCortex_SNAREseq_cDNA.barcodes.tsv.gz')"
   ]
  },
  {
   "cell_type": "code",
   "execution_count": null,
   "metadata": {},
   "outputs": [],
   "source": []
  }
 ]
}