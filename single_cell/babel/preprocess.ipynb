{
 "metadata": {
  "language_info": {
   "codemirror_mode": {
    "name": "ipython",
    "version": 3
   },
   "file_extension": ".py",
   "mimetype": "text/x-python",
   "name": "python",
   "nbconvert_exporter": "python",
   "pygments_lexer": "ipython3",
   "version": "3.8.5"
  },
  "orig_nbformat": 2,
  "kernelspec": {
   "name": "python385jvsc74a57bd0d1bdbded72f024b9331ead61a2f217ed72f340e06ce2ab6198f65373f5944641",
   "display_name": "Python 3.8.5 64-bit ('base': conda)"
  }
 },
 "nbformat": 4,
 "nbformat_minor": 2,
 "cells": [
  {
   "cell_type": "code",
   "execution_count": 14,
   "metadata": {},
   "outputs": [],
   "source": [
    "import numpy as np\n",
    "from scipy import sparse as ss\n",
    "from scipy.sparse.linalg import LinearOperator, svds\n",
    "from sklearn.utils.extmath import svd_flip\n",
    "import pandas as pd\n",
    "import datatable as dt\n",
    "from sklearn import preprocessing\n",
    "from sklearn.model_selection import train_test_split\n",
    "from sklearn import manifold\n",
    "from sklearn.metrics.pairwise import pairwise_distances\n",
    "from umap import UMAP\n",
    "from umap import umap_\n",
    "\n",
    "import igraph as ig\n",
    "import leidenalg\n",
    "# import louvain as lv\n",
    "from hdbscan import HDBSCAN"
   ]
  },
  {
   "cell_type": "code",
   "execution_count": 2,
   "metadata": {},
   "outputs": [],
   "source": [
    "def read_raw(count_file, cell_file, gene_file):\n",
    "    df = dt.fread(count_file, skip_to_line=2, header=False).to_pandas()\n",
    "    cell_df = pd.read_csv(cell_file, header=None, names=[\"cell\"], squeeze=True)\n",
    "    gene_df = pd.read_csv(gene_file, header=None, names=[\"gene\"], squeeze=True)\n",
    "    df.columns = [\"gene\", \"cell\", \"counts\"]\n",
    "    gene_num, cell_num, total_count = df.iloc[0]\n",
    "    df.drop(index=0, inplace=True)\n",
    "    df.cell -= 1\n",
    "    df.gene -= 1\n",
    "    X = ss.csr_matrix((df.counts, (df.cell, df.gene)), shape=(cell_num, gene_num), dtype='int16')\n",
    "\n",
    "    df = pd.DataFrame.sparse.from_spmatrix(\n",
    "        X, index=cell_df, columns=gene_df,\n",
    "    ).astype(\"Sparse[int16]\")\n",
    "    df.sort_index(inplace=True)\n",
    "    return df\n",
    "\n",
    "\n",
    "def qc(\n",
    "    df,\n",
    "    cell_min_counts=0,\n",
    "    cell_max_counts=np.inf,\n",
    "    cell_min_genes=0,\n",
    "    cell_max_genes=np.inf,\n",
    "    gene_min_counts=0,\n",
    "    gene_max_counts=np.inf,\n",
    "    gene_min_cells=0,\n",
    "    gene_max_cells=np.inf,\n",
    "):\n",
    "    cell_num, gene_num = df.shape\n",
    "    for i in cell_min_genes, cell_max_genes:\n",
    "        if (not np.isinf(i)) and isinstance(i, float):\n",
    "            i = int(i * gene_num)\n",
    "    for i in gene_min_cells, gene_max_cells:\n",
    "        if (not np.isinf(i)) and isinstance(i, float):\n",
    "            i = int(i * cell_num)\n",
    "\n",
    "    binarized_df = df > 0\n",
    "    cell_counts = df.sum(axis=1)\n",
    "    cell_genes = binarized_df.sum(axis=1)\n",
    "\n",
    "    gene_counts = df.sum(axis=0)\n",
    "    gene_cells = binarized_df.sum(axis=0)\n",
    "\n",
    "    good_cell = (\n",
    "        (cell_min_counts <= cell_counts)\n",
    "        & (cell_counts <= cell_max_counts)\n",
    "        & (cell_min_genes <= cell_genes)\n",
    "        & (cell_genes <= cell_max_genes)\n",
    "    )\n",
    "    good_gene = (\n",
    "        (gene_min_counts <= gene_counts)\n",
    "        & (gene_counts <= gene_max_counts)\n",
    "        & (gene_min_cells <= gene_cells)\n",
    "        & (gene_cells <= gene_max_cells)\n",
    "    )\n",
    "    return df.iloc[good_cell.values, good_gene.values].copy().astype(\"Sparse[int16]\")\n",
    "\n",
    "\n",
    "def normalize(sparse_df):\n",
    "    X = sparse_df.sparse.to_coo()\n",
    "    median = np.median(X.sum(axis=1).A.flatten())\n",
    "    print(median)\n",
    "    X = (preprocessing.normalize(X, norm='l1') * median).log1p().toarray()\n",
    "    scaler = preprocessing.StandardScaler().fit(X)\n",
    "    X = scaler.transform(X).astype('float32')\n",
    "    return X, scaler.mean_, scaler.scale_  # , scaler.mean_, scaler.scale_\n"
   ]
  },
  {
   "cell_type": "code",
   "execution_count": 3,
   "metadata": {},
   "outputs": [],
   "source": [
    "DATA_DIR = '/home/tiankang/wusuowei/data/single_cell/babel/snareseq_GSE126074/'\n",
    "COUNT_FILE = 'GSE126074_AdBrainCortex_SNAREseq_cDNA.counts.mtx.gz'\n",
    "CELL_FILE = 'GSE126074_AdBrainCortex_SNAREseq_cDNA.barcodes.tsv.gz'\n",
    "GENE_FILE = 'GSE126074_AdBrainCortex_SNAREseq_cDNA.genes.tsv.gz'\n",
    "\n",
    "\n",
    "raw_X = read_raw(DATA_DIR + COUNT_FILE, DATA_DIR + CELL_FILE, DATA_DIR + GENE_FILE)"
   ]
  },
  {
   "cell_type": "code",
   "execution_count": 18,
   "metadata": {},
   "outputs": [],
   "source": [
    "X = raw_X.sparse.to_coo().tocsr()"
   ]
  },
  {
   "cell_type": "code",
   "execution_count": 24,
   "metadata": {},
   "outputs": [
    {
     "output_type": "execute_result",
     "data": {
      "text/plain": [
       "dtype('int64')"
      ]
     },
     "metadata": {},
     "execution_count": 24
    }
   ],
   "source": [
    "X.dtype"
   ]
  },
  {
   "cell_type": "code",
   "execution_count": 63,
   "metadata": {},
   "outputs": [],
   "source": [
    "scaler = preprocessing.StandardScaler(with_mean=False).fit(X)"
   ]
  },
  {
   "cell_type": "code",
   "execution_count": 60,
   "metadata": {},
   "outputs": [],
   "source": [
    "def svd_with_sparse(X, k, solver='arpack', mu=None, random_state=None):\n",
    "    X = X.astype('float32')\n",
    "    random_init = np.random.rand(np.min(X.shape))\n",
    "\n",
    "    if mu is None:\n",
    "        mu = X.mean(axis=0).A.flatten()  # d\n",
    "    mdot = mu.dot\n",
    "    mmat = mdot\n",
    "    mhdot = mu.T.dot\n",
    "    mhmat = mu.T.dot\n",
    "    Xdot = X.dot\n",
    "    Xmat = Xdot\n",
    "    XHdot = X.T.conj().dot\n",
    "    XHmat = XHdot\n",
    "    ones = np.ones(X.shape[0])[None, :].dot\n",
    "    XH = X.T.conj()  # d x n\n",
    "\n",
    "    def matvec(x):\n",
    "        # print(x.shape)\n",
    "        return X @ x - mu @ x\n",
    "        # return Xdot(x) - mdot(x)\n",
    "\n",
    "    def matmat(x):\n",
    "        # print(x.shape)\n",
    "        return X @ x - (mu @ x)[:, np.newaxis]\n",
    "        # return Xmat(x) - mmat(x)\n",
    "\n",
    "    def rmatvec(x):\n",
    "        # x: n\n",
    "        # print(x.shape)\n",
    "        # print((XH @ x).shape)\n",
    "        # print((mu * x.sum()).T.shape)\n",
    "        return XH @ x - mu * x.sum()\n",
    "        # return XHdot(x) - mhdot(ones(x))\n",
    "\n",
    "    def rmatmat(x):\n",
    "        # x: n * k\n",
    "        return XH @ x - (mu * x.sum())[:, np.newaxis]\n",
    "        # return XHmat(x) - mhmat(ones(x))\n",
    "\n",
    "    XL = LinearOperator(\n",
    "        matvec=matvec,\n",
    "        matmat=matmat,\n",
    "        rmatvec=rmatvec,\n",
    "        rmatmat=rmatmat,\n",
    "        shape=X.shape,\n",
    "        dtype=X.dtype,\n",
    "    )\n",
    "\n",
    "    u, s, v = svds(XL, solver=solver, k=k, v0=random_init)\n",
    "    return u, s, v"
   ]
  },
  {
   "cell_type": "code",
   "execution_count": 71,
   "metadata": {},
   "outputs": [],
   "source": [
    "u, s, v = svd_with_sparse(X, k=10)"
   ]
  },
  {
   "cell_type": "code",
   "execution_count": 73,
   "metadata": {},
   "outputs": [
    {
     "output_type": "execute_result",
     "data": {
      "text/plain": [
       "array([ 500.0534 ,  533.1472 ,  561.10144,  640.27057,  673.54956,\n",
       "        841.2987 ,  919.8115 , 1050.427  , 1808.4785 , 6074.537  ],\n",
       "      dtype=float32)"
      ]
     },
     "metadata": {},
     "execution_count": 73
    }
   ],
   "source": [
    "s"
   ]
  },
  {
   "cell_type": "code",
   "execution_count": 72,
   "metadata": {},
   "outputs": [
    {
     "output_type": "execute_result",
     "data": {
      "text/plain": [
       "0.6993347138335441"
      ]
     },
     "metadata": {},
     "execution_count": 72
    }
   ],
   "source": [
    "(s ** 2 / X.shape[0]).sum() / scaler.var_.sum()"
   ]
  },
  {
   "cell_type": "code",
   "execution_count": 68,
   "metadata": {},
   "outputs": [
    {
     "output_type": "execute_result",
     "data": {
      "text/plain": [
       "6178.089903032298"
      ]
     },
     "metadata": {},
     "execution_count": 68
    }
   ],
   "source": [
    "scaler.var_.sum()"
   ]
  },
  {
   "cell_type": "code",
   "execution_count": 5,
   "metadata": {},
   "outputs": [],
   "source": [
    "qc_X = qc(raw_X, cell_min_genes=200, cell_max_genes=2500)"
   ]
  },
  {
   "cell_type": "code",
   "execution_count": 10,
   "metadata": {},
   "outputs": [
    {
     "output_type": "stream",
     "name": "stdout",
     "text": [
      "1332.0\n"
     ]
    }
   ],
   "source": [
    "normalized_X = normalize(qc_X)"
   ]
  },
  {
   "cell_type": "code",
   "execution_count": 61,
   "metadata": {},
   "outputs": [],
   "source": [
    "X_train, X_val = train_test_split(normalized_X, test_size=0.2)"
   ]
  },
  {
   "cell_type": "code",
   "execution_count": 63,
   "metadata": {},
   "outputs": [],
   "source": [
    "np.save('snare_seq_rna_profile_train.npy', X_train)\n",
    "np.save('snare_seq_rna_profile_val.npy', X_val)"
   ]
  },
  {
   "cell_type": "code",
   "execution_count": null,
   "metadata": {},
   "outputs": [],
   "source": [
    "scaler = preprocessing.StandardScaler().fit()"
   ]
  },
  {
   "cell_type": "code",
   "execution_count": 79,
   "metadata": {},
   "outputs": [],
   "source": [
    "X = qc_X.sparse.to_coo()"
   ]
  },
  {
   "cell_type": "code",
   "execution_count": 91,
   "metadata": {},
   "outputs": [
    {
     "output_type": "stream",
     "name": "stdout",
     "text": [
      "<class 'pandas.core.frame.DataFrame'>\nIndex: 10309 entries, 09A_AAACCAACGCCT to 09L_TTTTCTATTAAG\nColumns: 33160 entries, 0610005C13Rik to n-R5s50\ndtypes: Sparse[int16, 0](33160)\nmemory usage: 56.4+ MB\n"
     ]
    }
   ],
   "source": [
    "qc_X.info()"
   ]
  },
  {
   "cell_type": "code",
   "execution_count": 81,
   "metadata": {},
   "outputs": [],
   "source": [
    "X.data *= 2"
   ]
  },
  {
   "cell_type": "code",
   "execution_count": 92,
   "metadata": {},
   "outputs": [],
   "source": [
    "X.data = np.random.randint(0, 10, 9805813)"
   ]
  },
  {
   "cell_type": "code",
   "execution_count": 93,
   "metadata": {},
   "outputs": [
    {
     "output_type": "execute_result",
     "data": {
      "text/plain": [
       "array([7, 7, 7, ..., 7, 2, 4])"
      ]
     },
     "metadata": {},
     "execution_count": 93
    }
   ],
   "source": [
    "X.data"
   ]
  },
  {
   "cell_type": "code",
   "execution_count": 94,
   "metadata": {},
   "outputs": [],
   "source": [
    "def pseudo_replicate(sparse_X, p):\n",
    "    replicate_data = np.array([np.random.binomial(i, p, 2) for i in sparse_X.data])\n",
    "    replicate1 = sparse_X.copy()\n",
    "    replicate1.data = replicate_data[:, 0]\n",
    "    replicate2 = sparse_X.copy()\n",
    "    replicate2.data = replicate_data[:, 1]\n",
    "    return replicate1, replicate2\n",
    "\n"
   ]
  },
  {
   "cell_type": "code",
   "execution_count": 95,
   "metadata": {},
   "outputs": [],
   "source": [
    "X1, X2 = pseudo_replicate(X, 0.9)"
   ]
  },
  {
   "cell_type": "code",
   "execution_count": 97,
   "metadata": {},
   "outputs": [
    {
     "output_type": "execute_result",
     "data": {
      "text/plain": [
       "39716816"
      ]
     },
     "metadata": {},
     "execution_count": 97
    }
   ],
   "source": [
    "X1.sum()"
   ]
  },
  {
   "cell_type": "code",
   "execution_count": 100,
   "metadata": {},
   "outputs": [
    {
     "output_type": "execute_result",
     "data": {
      "text/plain": [
       "39719097.0"
      ]
     },
     "metadata": {},
     "execution_count": 100
    }
   ],
   "source": [
    "X.sum() * 0.9"
   ]
  },
  {
   "cell_type": "code",
   "execution_count": 101,
   "metadata": {},
   "outputs": [
    {
     "output_type": "execute_result",
     "data": {
      "text/plain": [
       "array([0., 0., 0., 0., 0.])"
      ]
     },
     "metadata": {},
     "execution_count": 101
    }
   ],
   "source": [
    "preprocessing.scale([1,1,1,1,1])"
   ]
  },
  {
   "cell_type": "code",
   "execution_count": 1,
   "metadata": {},
   "outputs": [
    {
     "output_type": "error",
     "ename": "NameError",
     "evalue": "name 'np' is not defined",
     "traceback": [
      "\u001b[0;31m---------------------------------------------------------------------------\u001b[0m",
      "\u001b[0;31mNameError\u001b[0m                                 Traceback (most recent call last)",
      "\u001b[0;32m<ipython-input-1-fb450b14b44c>\u001b[0m in \u001b[0;36m<module>\u001b[0;34m\u001b[0m\n\u001b[0;32m----> 1\u001b[0;31m \u001b[0mnp\u001b[0m\u001b[0;34m.\u001b[0m\u001b[0mmedian\u001b[0m\u001b[0;34m(\u001b[0m\u001b[0mX\u001b[0m\u001b[0;34m.\u001b[0m\u001b[0msum\u001b[0m\u001b[0;34m(\u001b[0m\u001b[0maxis\u001b[0m\u001b[0;34m=\u001b[0m\u001b[0;36m1\u001b[0m\u001b[0;34m)\u001b[0m\u001b[0;34m)\u001b[0m\u001b[0;34m\u001b[0m\u001b[0;34m\u001b[0m\u001b[0m\n\u001b[0m",
      "\u001b[0;31mNameError\u001b[0m: name 'np' is not defined"
     ]
    }
   ],
   "source": [
    "np.median(X.sum(axis=1))"
   ]
  },
  {
   "cell_type": "code",
   "execution_count": null,
   "metadata": {},
   "outputs": [],
   "source": []
  }
 ]
}