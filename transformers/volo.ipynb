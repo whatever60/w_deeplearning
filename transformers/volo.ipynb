{
 "cells": [
  {
   "cell_type": "code",
   "execution_count": 1,
   "metadata": {},
   "outputs": [],
   "source": [
    "import torch\n",
    "from torch import nn"
   ]
  },
  {
   "cell_type": "code",
   "execution_count": 2,
   "metadata": {},
   "outputs": [],
   "source": [
    "batch_size, C, H, W = 11, 3, 16, 14\n",
    "K, padding = 5, 2"
   ]
  },
  {
   "cell_type": "code",
   "execution_count": 6,
   "metadata": {},
   "outputs": [],
   "source": [
    "v_pj = nn.Linear(C, C)\n",
    "attn = nn.Linear(C, K ** 4)\n",
    "unfold = nn.Unfold(K, padding=padding)\n",
    "fold = nn.Fold(output_size=(H, W), kernel_size=K, padding=padding)"
   ]
  },
  {
   "cell_type": "code",
   "execution_count": 18,
   "metadata": {},
   "outputs": [
    {
     "name": "stdout",
     "output_type": "stream",
     "text": [
      "torch.Size([11, 16, 14, 3])\n",
      "torch.Size([11, 3, 16, 14])\n",
      "torch.Size([11, 75, 224])\n",
      "torch.Size([11, 224, 25, 3])\n",
      "torch.Size([11, 16, 14, 625])\n",
      "----\n",
      "torch.Size([11, 224, 25, 25]) torch.Size([11, 224, 25, 3])\n",
      "torch.Size([11, 224, 25, 3])\n",
      "torch.Size([11, 3, 25, 224])\n",
      "torch.Size([11, 3, 16, 14])\n",
      "torch.Size([11, 16, 14, 3])\n"
     ]
    }
   ],
   "source": [
    "x = torch.randn(batch_size, H, W, C)\n",
    "print(x.shape)\n",
    "v = v_pj(x).permute(0, 3, 1, 2)\n",
    "print(v.shape)\n",
    "v = unfold(v)\n",
    "print(v.shape)\n",
    "v = v.reshape(batch_size, C, K * K, H * W).permute(0, 3, 2, 1)\n",
    "print(v.shape)\n",
    "\n",
    "a = attn(x)\n",
    "print(a.shape)\n",
    "a = a.reshape(batch_size, H * W, K * K, K * K).softmax(dim=-1)\n",
    "\n",
    "print('----')\n",
    "print(a.shape, v.shape)\n",
    "x = torch.einsum('bljk, blkc -> bljc', a, v)\n",
    "print(x.shape)\n",
    "x = x.permute(0, 3, 2, 1)\n",
    "print(x.shape)\n",
    "x = x.reshape(batch_size, C * K * K, H * W)\n",
    "x = fold(x)\n",
    "print(x.shape)\n",
    "x = x.permute(0, 2, 3, 1)\n",
    "print(x.shape)"
   ]
  },
  {
   "cell_type": "code",
   "execution_count": null,
   "metadata": {},
   "outputs": [],
   "source": []
  }
 ],
 "metadata": {
  "interpreter": {
   "hash": "d1bdbded72f024b9331ead61a2f217ed72f340e06ce2ab6198f65373f5944641"
  },
  "kernelspec": {
   "display_name": "Python 3.8.5 64-bit ('base': conda)",
   "name": "python3"
  },
  "language_info": {
   "codemirror_mode": {
    "name": "ipython",
    "version": 3
   },
   "file_extension": ".py",
   "mimetype": "text/x-python",
   "name": "python",
   "nbconvert_exporter": "python",
   "pygments_lexer": "ipython3",
   "version": "3.8.5"
  },
  "orig_nbformat": 4
 },
 "nbformat": 4,
 "nbformat_minor": 2
}