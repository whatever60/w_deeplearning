{
 "metadata": {
  "language_info": {
   "codemirror_mode": {
    "name": "ipython",
    "version": 3
   },
   "file_extension": ".py",
   "mimetype": "text/x-python",
   "name": "python",
   "nbconvert_exporter": "python",
   "pygments_lexer": "ipython3",
   "version": "3.8.5"
  },
  "orig_nbformat": 2,
  "kernelspec": {
   "name": "python385jvsc74a57bd0d1bdbded72f024b9331ead61a2f217ed72f340e06ce2ab6198f65373f5944641",
   "display_name": "Python 3.8.5 64-bit ('anaconda3': conda)"
  }
 },
 "nbformat": 4,
 "nbformat_minor": 2,
 "cells": [
  {
   "cell_type": "code",
   "execution_count": 3,
   "metadata": {},
   "outputs": [],
   "source": [
    "from rich.console import Console\n",
    "import torch\n",
    "from torch import nn\n",
    "console = Console()"
   ]
  },
  {
   "source": [
    "## Copy Weight Between Modules"
   ],
   "cell_type": "markdown",
   "metadata": {}
  },
  {
   "cell_type": "code",
   "execution_count": 10,
   "metadata": {},
   "outputs": [
    {
     "output_type": "display_data",
     "data": {
      "text/plain": "--- \u001b[33mWeight of module a\u001b[0m ---\n",
      "text/html": "<pre style=\"white-space:pre;overflow-x:auto;line-height:normal;font-family:Menlo,'DejaVu Sans Mono',consolas,'Courier New',monospace\">--- <span style=\"color: #808000; text-decoration-color: #808000\">Weight of module a</span> ---\n</pre>\n"
     },
     "metadata": {}
    },
    {
     "output_type": "display_data",
     "data": {
      "text/plain": "Parameter containing:\ntensor\u001b[1m(\u001b[0m\u001b[1m[\u001b[0m\u001b[1m[\u001b[0m\u001b[1;36m-0.0692\u001b[0m, \u001b[1;36m-0.2555\u001b[0m, \u001b[1;36m-0.2303\u001b[0m, \u001b[1;36m-0.3956\u001b[0m\u001b[1m]\u001b[0m,\n        \u001b[1m[\u001b[0m \u001b[1;36m0.2600\u001b[0m, \u001b[1;36m-0.4306\u001b[0m,  \u001b[1;36m0.1944\u001b[0m, \u001b[1;36m-0.1055\u001b[0m\u001b[1m]\u001b[0m,\n        \u001b[1m[\u001b[0m\u001b[1;36m-0.4039\u001b[0m,  \u001b[1;36m0.3127\u001b[0m,  \u001b[1;36m0.1193\u001b[0m,  \u001b[1;36m0.0619\u001b[0m\u001b[1m]\u001b[0m\u001b[1m]\u001b[0m, \u001b[33mrequires_grad\u001b[0m=\u001b[3;92mTrue\u001b[0m\u001b[1m)\u001b[0m\n",
      "text/html": "<pre style=\"white-space:pre;overflow-x:auto;line-height:normal;font-family:Menlo,'DejaVu Sans Mono',consolas,'Courier New',monospace\">Parameter containing:\ntensor<span style=\"font-weight: bold\">([[</span><span style=\"color: #008080; text-decoration-color: #008080; font-weight: bold\">-0.0692</span>, <span style=\"color: #008080; text-decoration-color: #008080; font-weight: bold\">-0.2555</span>, <span style=\"color: #008080; text-decoration-color: #008080; font-weight: bold\">-0.2303</span>, <span style=\"color: #008080; text-decoration-color: #008080; font-weight: bold\">-0.3956</span><span style=\"font-weight: bold\">]</span>,\n        <span style=\"font-weight: bold\">[</span> <span style=\"color: #008080; text-decoration-color: #008080; font-weight: bold\">0.2600</span>, <span style=\"color: #008080; text-decoration-color: #008080; font-weight: bold\">-0.4306</span>,  <span style=\"color: #008080; text-decoration-color: #008080; font-weight: bold\">0.1944</span>, <span style=\"color: #008080; text-decoration-color: #008080; font-weight: bold\">-0.1055</span><span style=\"font-weight: bold\">]</span>,\n        <span style=\"font-weight: bold\">[</span><span style=\"color: #008080; text-decoration-color: #008080; font-weight: bold\">-0.4039</span>,  <span style=\"color: #008080; text-decoration-color: #008080; font-weight: bold\">0.3127</span>,  <span style=\"color: #008080; text-decoration-color: #008080; font-weight: bold\">0.1193</span>,  <span style=\"color: #008080; text-decoration-color: #008080; font-weight: bold\">0.0619</span><span style=\"font-weight: bold\">]]</span>, <span style=\"color: #808000; text-decoration-color: #808000\">requires_grad</span>=<span style=\"color: #00ff00; text-decoration-color: #00ff00; font-style: italic\">True</span><span style=\"font-weight: bold\">)</span>\n</pre>\n"
     },
     "metadata": {}
    },
    {
     "output_type": "display_data",
     "data": {
      "text/plain": "--- \u001b[33mWeight of module b\u001b[0m ---\n",
      "text/html": "<pre style=\"white-space:pre;overflow-x:auto;line-height:normal;font-family:Menlo,'DejaVu Sans Mono',consolas,'Courier New',monospace\">--- <span style=\"color: #808000; text-decoration-color: #808000\">Weight of module b</span> ---\n</pre>\n"
     },
     "metadata": {}
    },
    {
     "output_type": "display_data",
     "data": {
      "text/plain": "Parameter containing:\ntensor\u001b[1m(\u001b[0m\u001b[1m[\u001b[0m\u001b[1m[\u001b[0m \u001b[1;36m0.2168\u001b[0m, \u001b[1;36m-0.4786\u001b[0m,  \u001b[1;36m0.2107\u001b[0m,  \u001b[1;36m0.3373\u001b[0m\u001b[1m]\u001b[0m,\n        \u001b[1m[\u001b[0m \u001b[1;36m0.1556\u001b[0m, \u001b[1;36m-0.3197\u001b[0m, \u001b[1;36m-0.4132\u001b[0m, \u001b[1;36m-0.4751\u001b[0m\u001b[1m]\u001b[0m,\n        \u001b[1m[\u001b[0m \u001b[1;36m0.0275\u001b[0m, \u001b[1;36m-0.1506\u001b[0m, \u001b[1;36m-0.2630\u001b[0m,  \u001b[1;36m0.1806\u001b[0m\u001b[1m]\u001b[0m\u001b[1m]\u001b[0m, \u001b[33mrequires_grad\u001b[0m=\u001b[3;92mTrue\u001b[0m\u001b[1m)\u001b[0m\n",
      "text/html": "<pre style=\"white-space:pre;overflow-x:auto;line-height:normal;font-family:Menlo,'DejaVu Sans Mono',consolas,'Courier New',monospace\">Parameter containing:\ntensor<span style=\"font-weight: bold\">([[</span> <span style=\"color: #008080; text-decoration-color: #008080; font-weight: bold\">0.2168</span>, <span style=\"color: #008080; text-decoration-color: #008080; font-weight: bold\">-0.4786</span>,  <span style=\"color: #008080; text-decoration-color: #008080; font-weight: bold\">0.2107</span>,  <span style=\"color: #008080; text-decoration-color: #008080; font-weight: bold\">0.3373</span><span style=\"font-weight: bold\">]</span>,\n        <span style=\"font-weight: bold\">[</span> <span style=\"color: #008080; text-decoration-color: #008080; font-weight: bold\">0.1556</span>, <span style=\"color: #008080; text-decoration-color: #008080; font-weight: bold\">-0.3197</span>, <span style=\"color: #008080; text-decoration-color: #008080; font-weight: bold\">-0.4132</span>, <span style=\"color: #008080; text-decoration-color: #008080; font-weight: bold\">-0.4751</span><span style=\"font-weight: bold\">]</span>,\n        <span style=\"font-weight: bold\">[</span> <span style=\"color: #008080; text-decoration-color: #008080; font-weight: bold\">0.0275</span>, <span style=\"color: #008080; text-decoration-color: #008080; font-weight: bold\">-0.1506</span>, <span style=\"color: #008080; text-decoration-color: #008080; font-weight: bold\">-0.2630</span>,  <span style=\"color: #008080; text-decoration-color: #008080; font-weight: bold\">0.1806</span><span style=\"font-weight: bold\">]]</span>, <span style=\"color: #808000; text-decoration-color: #808000\">requires_grad</span>=<span style=\"color: #00ff00; text-decoration-color: #00ff00; font-style: italic\">True</span><span style=\"font-weight: bold\">)</span>\n</pre>\n"
     },
     "metadata": {}
    },
    {
     "output_type": "display_data",
     "data": {
      "text/plain": "--- \u001b[33mGrad of module a's weight\u001b[0m ---\n",
      "text/html": "<pre style=\"white-space:pre;overflow-x:auto;line-height:normal;font-family:Menlo,'DejaVu Sans Mono',consolas,'Courier New',monospace\">--- <span style=\"color: #808000; text-decoration-color: #808000\">Grad of module a's weight</span> ---\n</pre>\n"
     },
     "metadata": {}
    },
    {
     "output_type": "display_data",
     "data": {
      "text/plain": "tensor\u001b[1m(\u001b[0m\u001b[1m[\u001b[0m\u001b[1m[\u001b[0m\u001b[1;36m-6.6695\u001b[0m, \u001b[1;36m-4.6779\u001b[0m,  \u001b[1;36m1.5673\u001b[0m,  \u001b[1;36m1.6921\u001b[0m\u001b[1m]\u001b[0m,\n        \u001b[1m[\u001b[0m\u001b[1;36m-6.6695\u001b[0m, \u001b[1;36m-4.6779\u001b[0m,  \u001b[1;36m1.5673\u001b[0m,  \u001b[1;36m1.6921\u001b[0m\u001b[1m]\u001b[0m,\n        \u001b[1m[\u001b[0m\u001b[1;36m-6.6695\u001b[0m, \u001b[1;36m-4.6779\u001b[0m,  \u001b[1;36m1.5673\u001b[0m,  \u001b[1;36m1.6921\u001b[0m\u001b[1m]\u001b[0m\u001b[1m]\u001b[0m\u001b[1m)\u001b[0m\n",
      "text/html": "<pre style=\"white-space:pre;overflow-x:auto;line-height:normal;font-family:Menlo,'DejaVu Sans Mono',consolas,'Courier New',monospace\">tensor<span style=\"font-weight: bold\">([[</span><span style=\"color: #008080; text-decoration-color: #008080; font-weight: bold\">-6.6695</span>, <span style=\"color: #008080; text-decoration-color: #008080; font-weight: bold\">-4.6779</span>,  <span style=\"color: #008080; text-decoration-color: #008080; font-weight: bold\">1.5673</span>,  <span style=\"color: #008080; text-decoration-color: #008080; font-weight: bold\">1.6921</span><span style=\"font-weight: bold\">]</span>,\n        <span style=\"font-weight: bold\">[</span><span style=\"color: #008080; text-decoration-color: #008080; font-weight: bold\">-6.6695</span>, <span style=\"color: #008080; text-decoration-color: #008080; font-weight: bold\">-4.6779</span>,  <span style=\"color: #008080; text-decoration-color: #008080; font-weight: bold\">1.5673</span>,  <span style=\"color: #008080; text-decoration-color: #008080; font-weight: bold\">1.6921</span><span style=\"font-weight: bold\">]</span>,\n        <span style=\"font-weight: bold\">[</span><span style=\"color: #008080; text-decoration-color: #008080; font-weight: bold\">-6.6695</span>, <span style=\"color: #008080; text-decoration-color: #008080; font-weight: bold\">-4.6779</span>,  <span style=\"color: #008080; text-decoration-color: #008080; font-weight: bold\">1.5673</span>,  <span style=\"color: #008080; text-decoration-color: #008080; font-weight: bold\">1.6921</span><span style=\"font-weight: bold\">]])</span>\n</pre>\n"
     },
     "metadata": {}
    },
    {
     "output_type": "display_data",
     "data": {
      "text/plain": "--- \u001b[33mWeight of module b after copying\u001b[0m ---\n",
      "text/html": "<pre style=\"white-space:pre;overflow-x:auto;line-height:normal;font-family:Menlo,'DejaVu Sans Mono',consolas,'Courier New',monospace\">--- <span style=\"color: #808000; text-decoration-color: #808000\">Weight of module b after copying</span> ---\n</pre>\n"
     },
     "metadata": {}
    },
    {
     "output_type": "display_data",
     "data": {
      "text/plain": "Parameter containing:\ntensor\u001b[1m(\u001b[0m\u001b[1m[\u001b[0m\u001b[1m[\u001b[0m\u001b[1;36m-0.0692\u001b[0m, \u001b[1;36m-0.2555\u001b[0m, \u001b[1;36m-0.2303\u001b[0m, \u001b[1;36m-0.3956\u001b[0m\u001b[1m]\u001b[0m,\n        \u001b[1m[\u001b[0m \u001b[1;36m0.2600\u001b[0m, \u001b[1;36m-0.4306\u001b[0m,  \u001b[1;36m0.1944\u001b[0m, \u001b[1;36m-0.1055\u001b[0m\u001b[1m]\u001b[0m,\n        \u001b[1m[\u001b[0m\u001b[1;36m-0.4039\u001b[0m,  \u001b[1;36m0.3127\u001b[0m,  \u001b[1;36m0.1193\u001b[0m,  \u001b[1;36m0.0619\u001b[0m\u001b[1m]\u001b[0m\u001b[1m]\u001b[0m, \u001b[33mrequires_grad\u001b[0m=\u001b[3;92mTrue\u001b[0m\u001b[1m)\u001b[0m\n",
      "text/html": "<pre style=\"white-space:pre;overflow-x:auto;line-height:normal;font-family:Menlo,'DejaVu Sans Mono',consolas,'Courier New',monospace\">Parameter containing:\ntensor<span style=\"font-weight: bold\">([[</span><span style=\"color: #008080; text-decoration-color: #008080; font-weight: bold\">-0.0692</span>, <span style=\"color: #008080; text-decoration-color: #008080; font-weight: bold\">-0.2555</span>, <span style=\"color: #008080; text-decoration-color: #008080; font-weight: bold\">-0.2303</span>, <span style=\"color: #008080; text-decoration-color: #008080; font-weight: bold\">-0.3956</span><span style=\"font-weight: bold\">]</span>,\n        <span style=\"font-weight: bold\">[</span> <span style=\"color: #008080; text-decoration-color: #008080; font-weight: bold\">0.2600</span>, <span style=\"color: #008080; text-decoration-color: #008080; font-weight: bold\">-0.4306</span>,  <span style=\"color: #008080; text-decoration-color: #008080; font-weight: bold\">0.1944</span>, <span style=\"color: #008080; text-decoration-color: #008080; font-weight: bold\">-0.1055</span><span style=\"font-weight: bold\">]</span>,\n        <span style=\"font-weight: bold\">[</span><span style=\"color: #008080; text-decoration-color: #008080; font-weight: bold\">-0.4039</span>,  <span style=\"color: #008080; text-decoration-color: #008080; font-weight: bold\">0.3127</span>,  <span style=\"color: #008080; text-decoration-color: #008080; font-weight: bold\">0.1193</span>,  <span style=\"color: #008080; text-decoration-color: #008080; font-weight: bold\">0.0619</span><span style=\"font-weight: bold\">]]</span>, <span style=\"color: #808000; text-decoration-color: #808000\">requires_grad</span>=<span style=\"color: #00ff00; text-decoration-color: #00ff00; font-style: italic\">True</span><span style=\"font-weight: bold\">)</span>\n</pre>\n"
     },
     "metadata": {}
    },
    {
     "output_type": "display_data",
     "data": {
      "text/plain": "--- \u001b[33mGrad of b's weight after copying \u001b[0m\u001b[1;33m(\u001b[0m\u001b[33mstill \u001b[0m\u001b[3;33mNone\u001b[0m\u001b[1;33m)\u001b[0m ---\n",
      "text/html": "<pre style=\"white-space:pre;overflow-x:auto;line-height:normal;font-family:Menlo,'DejaVu Sans Mono',consolas,'Courier New',monospace\">--- <span style=\"color: #808000; text-decoration-color: #808000\">Grad of b's weight after copying </span><span style=\"color: #808000; text-decoration-color: #808000; font-weight: bold\">(</span><span style=\"color: #808000; text-decoration-color: #808000\">still </span><span style=\"color: #808000; text-decoration-color: #808000; font-style: italic\">None</span><span style=\"color: #808000; text-decoration-color: #808000; font-weight: bold\">)</span> ---\n</pre>\n"
     },
     "metadata": {}
    },
    {
     "output_type": "display_data",
     "data": {
      "text/plain": "\u001b[3;35mNone\u001b[0m\n",
      "text/html": "<pre style=\"white-space:pre;overflow-x:auto;line-height:normal;font-family:Menlo,'DejaVu Sans Mono',consolas,'Courier New',monospace\"><span style=\"color: #800080; text-decoration-color: #800080; font-style: italic\">None</span>\n</pre>\n"
     },
     "metadata": {}
    }
   ],
   "source": [
    "a = nn.Linear(4, 3)\n",
    "b = nn.Linear(4, 3)\n",
    "console.print('--- [yellow]Weight of module a[/] ---')\n",
    "console.print(a.weight)\n",
    "console.print('--- [yellow]Weight of module b[/] ---')\n",
    "console.print(b.weight)\n",
    "a(torch.randn(10, 4)).sum().backward()\n",
    "console.print('--- [yellow]Grad of module a\\'s weight[/] ---')\n",
    "console.print(a.weight.grad)\n",
    "with torch.no_grad():\n",
    "    b.weight.copy_(a.weight)\n",
    "console.print('--- [yellow]Weight of module b after copying[/] ---')\n",
    "console.print(b.weight)\n",
    "console.print('--- [yellow]Grad of b\\'s weight after copying (still None)[/] ---')\n",
    "console.print(b.weight.grad)"
   ]
  },
  {
   "cell_type": "code",
   "execution_count": null,
   "metadata": {},
   "outputs": [],
   "source": []
  }
 ]
}